{
 "cells": [
  {
   "cell_type": "markdown",
   "metadata": {},
   "source": [
    "# Python Basics"
   ]
  },
  {
   "cell_type": "code",
   "execution_count": 2,
   "metadata": {},
   "outputs": [
    {
     "data": {
      "text/plain": [
       "5"
      ]
     },
     "execution_count": 2,
     "metadata": {},
     "output_type": "execute_result"
    }
   ],
   "source": [
    "# First Class of Python\n",
    "\n",
    "2+3\n"
   ]
  },
  {
   "cell_type": "code",
   "execution_count": 7,
   "metadata": {},
   "outputs": [
    {
     "name": "stdout",
     "output_type": "stream",
     "text": [
      "Hello\n"
     ]
    }
   ],
   "source": [
    "print('Hello')"
   ]
  },
  {
   "cell_type": "code",
   "execution_count": 6,
   "metadata": {},
   "outputs": [
    {
     "data": {
      "text/plain": [
       "5"
      ]
     },
     "execution_count": 6,
     "metadata": {},
     "output_type": "execute_result"
    }
   ],
   "source": [
    "a = 2+3\n",
    "a"
   ]
  },
  {
   "cell_type": "code",
   "execution_count": 8,
   "metadata": {},
   "outputs": [
    {
     "name": "stdout",
     "output_type": "stream",
     "text": [
      "5\n"
     ]
    }
   ],
   "source": [
    "print(a)"
   ]
  },
  {
   "cell_type": "code",
   "execution_count": 9,
   "metadata": {},
   "outputs": [
    {
     "data": {
      "text/plain": [
       "1"
      ]
     },
     "execution_count": 9,
     "metadata": {},
     "output_type": "execute_result"
    }
   ],
   "source": [
    "5-4"
   ]
  },
  {
   "cell_type": "code",
   "execution_count": 10,
   "metadata": {},
   "outputs": [
    {
     "data": {
      "text/plain": [
       "-1"
      ]
     },
     "execution_count": 10,
     "metadata": {},
     "output_type": "execute_result"
    }
   ],
   "source": [
    "4-5"
   ]
  },
  {
   "cell_type": "code",
   "execution_count": 11,
   "metadata": {},
   "outputs": [
    {
     "data": {
      "text/plain": [
       "42"
      ]
     },
     "execution_count": 11,
     "metadata": {},
     "output_type": "execute_result"
    }
   ],
   "source": [
    "6*7"
   ]
  },
  {
   "cell_type": "code",
   "execution_count": 12,
   "metadata": {},
   "outputs": [
    {
     "data": {
      "text/plain": [
       "2.0"
      ]
     },
     "execution_count": 12,
     "metadata": {},
     "output_type": "execute_result"
    }
   ],
   "source": [
    "10/5"
   ]
  },
  {
   "cell_type": "code",
   "execution_count": 13,
   "metadata": {},
   "outputs": [
    {
     "data": {
      "text/plain": [
       "2.3333333333333335"
      ]
     },
     "execution_count": 13,
     "metadata": {},
     "output_type": "execute_result"
    }
   ],
   "source": [
    "7/3"
   ]
  },
  {
   "cell_type": "code",
   "execution_count": 14,
   "metadata": {},
   "outputs": [
    {
     "data": {
      "text/plain": [
       "2"
      ]
     },
     "execution_count": 14,
     "metadata": {},
     "output_type": "execute_result"
    }
   ],
   "source": [
    "7//3"
   ]
  },
  {
   "cell_type": "code",
   "execution_count": 15,
   "metadata": {},
   "outputs": [
    {
     "data": {
      "text/plain": [
       "2.6"
      ]
     },
     "execution_count": 15,
     "metadata": {},
     "output_type": "execute_result"
    }
   ],
   "source": [
    "13/5"
   ]
  },
  {
   "cell_type": "code",
   "execution_count": 16,
   "metadata": {},
   "outputs": [
    {
     "data": {
      "text/plain": [
       "2"
      ]
     },
     "execution_count": 16,
     "metadata": {},
     "output_type": "execute_result"
    }
   ],
   "source": [
    "13//5"
   ]
  },
  {
   "cell_type": "code",
   "execution_count": 17,
   "metadata": {},
   "outputs": [
    {
     "data": {
      "text/plain": [
       "3"
      ]
     },
     "execution_count": 17,
     "metadata": {},
     "output_type": "execute_result"
    }
   ],
   "source": [
    "13%5"
   ]
  },
  {
   "cell_type": "code",
   "execution_count": 22,
   "metadata": {},
   "outputs": [
    {
     "data": {
      "text/plain": [
       "32"
      ]
     },
     "execution_count": 22,
     "metadata": {},
     "output_type": "execute_result"
    }
   ],
   "source": [
    "2**5"
   ]
  },
  {
   "cell_type": "code",
   "execution_count": 23,
   "metadata": {},
   "outputs": [
    {
     "data": {
      "text/plain": [
       "7"
      ]
     },
     "execution_count": 23,
     "metadata": {},
     "output_type": "execute_result"
    }
   ],
   "source": [
    "2^5"
   ]
  },
  {
   "cell_type": "code",
   "execution_count": 24,
   "metadata": {},
   "outputs": [
    {
     "data": {
      "text/plain": [
       "9"
      ]
     },
     "execution_count": 24,
     "metadata": {},
     "output_type": "execute_result"
    }
   ],
   "source": [
    "10^3"
   ]
  },
  {
   "cell_type": "code",
   "execution_count": 25,
   "metadata": {},
   "outputs": [
    {
     "data": {
      "text/plain": [
       "7"
      ]
     },
     "execution_count": 25,
     "metadata": {},
     "output_type": "execute_result"
    }
   ],
   "source": [
    "3^4"
   ]
  },
  {
   "cell_type": "code",
   "execution_count": 26,
   "metadata": {},
   "outputs": [
    {
     "data": {
      "text/plain": [
       "15"
      ]
     },
     "execution_count": 26,
     "metadata": {},
     "output_type": "execute_result"
    }
   ],
   "source": [
    "12^3"
   ]
  },
  {
   "cell_type": "code",
   "execution_count": 27,
   "metadata": {},
   "outputs": [
    {
     "data": {
      "text/plain": [
       "9"
      ]
     },
     "execution_count": 27,
     "metadata": {},
     "output_type": "execute_result"
    }
   ],
   "source": [
    "3^10"
   ]
  },
  {
   "cell_type": "code",
   "execution_count": 28,
   "metadata": {},
   "outputs": [
    {
     "data": {
      "text/plain": [
       "8"
      ]
     },
     "execution_count": 28,
     "metadata": {},
     "output_type": "execute_result"
    }
   ],
   "source": [
    "10^2"
   ]
  },
  {
   "cell_type": "code",
   "execution_count": 29,
   "metadata": {},
   "outputs": [
    {
     "data": {
      "text/plain": [
       "102"
      ]
     },
     "execution_count": 29,
     "metadata": {},
     "output_type": "execute_result"
    }
   ],
   "source": [
    "100^2"
   ]
  },
  {
   "cell_type": "code",
   "execution_count": 31,
   "metadata": {},
   "outputs": [
    {
     "data": {
      "text/plain": [
       "106"
      ]
     },
     "execution_count": 31,
     "metadata": {},
     "output_type": "execute_result"
    }
   ],
   "source": [
    "96^10"
   ]
  },
  {
   "cell_type": "code",
   "execution_count": 20,
   "metadata": {},
   "outputs": [
    {
     "data": {
      "text/plain": [
       "8.0"
      ]
     },
     "execution_count": 20,
     "metadata": {},
     "output_type": "execute_result"
    }
   ],
   "source": [
    "64**(1/2)"
   ]
  },
  {
   "cell_type": "code",
   "execution_count": 25,
   "metadata": {},
   "outputs": [
    {
     "data": {
      "text/plain": [
       "8.0"
      ]
     },
     "execution_count": 25,
     "metadata": {},
     "output_type": "execute_result"
    }
   ],
   "source": [
    "64**0.5"
   ]
  },
  {
   "cell_type": "code",
   "execution_count": 32,
   "metadata": {},
   "outputs": [
    {
     "data": {
      "text/plain": [
       "30"
      ]
     },
     "execution_count": 32,
     "metadata": {},
     "output_type": "execute_result"
    }
   ],
   "source": [
    "2+6*6-8"
   ]
  },
  {
   "cell_type": "code",
   "execution_count": 33,
   "metadata": {},
   "outputs": [
    {
     "data": {
      "text/plain": [
       "40"
      ]
     },
     "execution_count": 33,
     "metadata": {},
     "output_type": "execute_result"
    }
   ],
   "source": [
    "(2+6)*6-8"
   ]
  },
  {
   "cell_type": "code",
   "execution_count": 28,
   "metadata": {},
   "outputs": [
    {
     "name": "stderr",
     "output_type": "stream",
     "text": [
      "UsageError: Line magic function `%a` not found.\n"
     ]
    }
   ],
   "source": [
    "# Variables"
   ]
  },
  {
   "cell_type": "code",
   "execution_count": 39,
   "metadata": {},
   "outputs": [
    {
     "ename": "SyntaxError",
     "evalue": "can't assign to literal (<ipython-input-39-7d7e98b1012e>, line 1)",
     "output_type": "error",
     "traceback": [
      "\u001b[1;36m  File \u001b[1;32m\"<ipython-input-39-7d7e98b1012e>\"\u001b[1;36m, line \u001b[1;32m1\u001b[0m\n\u001b[1;33m    12 = 5\u001b[0m\n\u001b[1;37m          ^\u001b[0m\n\u001b[1;31mSyntaxError\u001b[0m\u001b[1;31m:\u001b[0m can't assign to literal\n"
     ]
    }
   ],
   "source": [
    "12 = 5"
   ]
  },
  {
   "cell_type": "code",
   "execution_count": 35,
   "metadata": {},
   "outputs": [
    {
     "ename": "SyntaxError",
     "evalue": "invalid syntax (<ipython-input-35-fef70cc47db2>, line 1)",
     "output_type": "error",
     "traceback": [
      "\u001b[1;36m  File \u001b[1;32m\"<ipython-input-35-fef70cc47db2>\"\u001b[1;36m, line \u001b[1;32m1\u001b[0m\n\u001b[1;33m    1a = 7\u001b[0m\n\u001b[1;37m     ^\u001b[0m\n\u001b[1;31mSyntaxError\u001b[0m\u001b[1;31m:\u001b[0m invalid syntax\n"
     ]
    }
   ],
   "source": [
    "1a = 7"
   ]
  },
  {
   "cell_type": "code",
   "execution_count": 36,
   "metadata": {},
   "outputs": [
    {
     "ename": "SyntaxError",
     "evalue": "invalid syntax (<ipython-input-36-b4c5eb8191df>, line 1)",
     "output_type": "error",
     "traceback": [
      "\u001b[1;36m  File \u001b[1;32m\"<ipython-input-36-b4c5eb8191df>\"\u001b[1;36m, line \u001b[1;32m1\u001b[0m\n\u001b[1;33m    $a = 8\u001b[0m\n\u001b[1;37m    ^\u001b[0m\n\u001b[1;31mSyntaxError\u001b[0m\u001b[1;31m:\u001b[0m invalid syntax\n"
     ]
    }
   ],
   "source": [
    "$a = 8"
   ]
  },
  {
   "cell_type": "code",
   "execution_count": 42,
   "metadata": {},
   "outputs": [
    {
     "data": {
      "text/plain": [
       "3"
      ]
     },
     "execution_count": 42,
     "metadata": {},
     "output_type": "execute_result"
    }
   ],
   "source": [
    "_a = 3\n",
    "\n",
    "_a"
   ]
  },
  {
   "cell_type": "code",
   "execution_count": 44,
   "metadata": {},
   "outputs": [
    {
     "data": {
      "text/plain": [
       "5"
      ]
     },
     "execution_count": 44,
     "metadata": {},
     "output_type": "execute_result"
    }
   ],
   "source": [
    "_1a = 5\n",
    "\n",
    "_1a"
   ]
  },
  {
   "cell_type": "code",
   "execution_count": 3,
   "metadata": {},
   "outputs": [],
   "source": [
    "a_12 = 67"
   ]
  },
  {
   "cell_type": "code",
   "execution_count": 45,
   "metadata": {},
   "outputs": [
    {
     "ename": "SyntaxError",
     "evalue": "invalid syntax (<ipython-input-45-268e27b269c5>, line 1)",
     "output_type": "error",
     "traceback": [
      "\u001b[1;36m  File \u001b[1;32m\"<ipython-input-45-268e27b269c5>\"\u001b[1;36m, line \u001b[1;32m1\u001b[0m\n\u001b[1;33m    c_6473tbnllkn@@---^^^ = 9\u001b[0m\n\u001b[1;37m                  ^\u001b[0m\n\u001b[1;31mSyntaxError\u001b[0m\u001b[1;31m:\u001b[0m invalid syntax\n"
     ]
    }
   ],
   "source": [
    "c_6473tbnllkn@@---^^^ = 9\n",
    "c_6473tbnllkn@@---^^^"
   ]
  },
  {
   "cell_type": "code",
   "execution_count": 46,
   "metadata": {},
   "outputs": [
    {
     "ename": "SyntaxError",
     "evalue": "invalid syntax (<ipython-input-46-02059fbc6b96>, line 1)",
     "output_type": "error",
     "traceback": [
      "\u001b[1;36m  File \u001b[1;32m\"<ipython-input-46-02059fbc6b96>\"\u001b[1;36m, line \u001b[1;32m1\u001b[0m\n\u001b[1;33m    c_6473tbnllkn---^^^ = 9\u001b[0m\n\u001b[1;37m                    ^\u001b[0m\n\u001b[1;31mSyntaxError\u001b[0m\u001b[1;31m:\u001b[0m invalid syntax\n"
     ]
    }
   ],
   "source": [
    "c_6473tbnllkn---^^^ = 9\n",
    "c_6473tbnllkn---^^^"
   ]
  },
  {
   "cell_type": "code",
   "execution_count": 47,
   "metadata": {},
   "outputs": [
    {
     "ename": "SyntaxError",
     "evalue": "invalid syntax (<ipython-input-47-5105d684945d>, line 1)",
     "output_type": "error",
     "traceback": [
      "\u001b[1;36m  File \u001b[1;32m\"<ipython-input-47-5105d684945d>\"\u001b[1;36m, line \u001b[1;32m1\u001b[0m\n\u001b[1;33m    c_6473tbnllkn--- = 9\u001b[0m\n\u001b[1;37m                     ^\u001b[0m\n\u001b[1;31mSyntaxError\u001b[0m\u001b[1;31m:\u001b[0m invalid syntax\n"
     ]
    }
   ],
   "source": [
    "c_6473tbnllkn--- = 9\n",
    "c_6473tbnllkn---"
   ]
  },
  {
   "cell_type": "code",
   "execution_count": 48,
   "metadata": {},
   "outputs": [
    {
     "data": {
      "text/plain": [
       "9"
      ]
     },
     "execution_count": 48,
     "metadata": {},
     "output_type": "execute_result"
    }
   ],
   "source": [
    "c_6473tbnllkn = 9\n",
    "c_6473tbnllkn"
   ]
  },
  {
   "cell_type": "code",
   "execution_count": 49,
   "metadata": {},
   "outputs": [
    {
     "ename": "SyntaxError",
     "evalue": "invalid syntax (<ipython-input-49-632daae154ee>, line 1)",
     "output_type": "error",
     "traceback": [
      "\u001b[1;36m  File \u001b[1;32m\"<ipython-input-49-632daae154ee>\"\u001b[1;36m, line \u001b[1;32m1\u001b[0m\n\u001b[1;33m    c_6473tbnllkn@@---^^^b = 9\u001b[0m\n\u001b[1;37m                  ^\u001b[0m\n\u001b[1;31mSyntaxError\u001b[0m\u001b[1;31m:\u001b[0m invalid syntax\n"
     ]
    }
   ],
   "source": [
    "c_6473tbnllkn@@---^^^b = 9\n",
    "c_6473tbnllkn@@---^^^b"
   ]
  },
  {
   "cell_type": "code",
   "execution_count": 10,
   "metadata": {},
   "outputs": [
    {
     "name": "stdout",
     "output_type": "stream",
     "text": [
      "['False', 'None', 'True', 'and', 'as', 'assert', 'break', 'class', 'continue', 'def', 'del', 'elif', 'else', 'except', 'finally', 'for', 'from', 'global', 'if', 'import', 'in', 'is', 'lambda', 'nonlocal', 'not', 'or', 'pass', 'raise', 'return', 'try', 'while', 'with', 'yield']\n",
      "\n",
      "Total number of Keywords in Python: 33\n"
     ]
    }
   ],
   "source": [
    "#keywords\n",
    "\n",
    "import keyword\n",
    "print(keyword.kwlist)\n",
    "print(\"\\nTotal number of Keywords in Python:\", len(keyword.kwlist))"
   ]
  },
  {
   "cell_type": "code",
   "execution_count": 54,
   "metadata": {},
   "outputs": [
    {
     "name": "stdout",
     "output_type": "stream",
     "text": [
      "Total number of Keywords in Python: 33\n"
     ]
    }
   ],
   "source": [
    "import keyword\n",
    "keyword.kwlist\n",
    "print(\"Total number of Keywords in Python:\", len(keyword.kwlist))"
   ]
  },
  {
   "cell_type": "code",
   "execution_count": 9,
   "metadata": {},
   "outputs": [
    {
     "name": "stdout",
     "output_type": "stream",
     "text": [
      "['False', 'None', 'True', 'and', 'as', 'assert', 'break', 'class', 'continue', 'def', 'del', 'elif', 'else', 'except', 'finally', 'for', 'from', 'global', 'if', 'import', 'in', 'is', 'lambda', 'nonlocal', 'not', 'or', 'pass', 'raise', 'return', 'try', 'while', 'with', 'yield']\n",
      "\n",
      " 123\n"
     ]
    }
   ],
   "source": [
    "import keyword\n",
    "print(keyword.kwlist)\n",
    "\n",
    "print(\"\\n 123\")"
   ]
  },
  {
   "cell_type": "code",
   "execution_count": 52,
   "metadata": {},
   "outputs": [
    {
     "ename": "SyntaxError",
     "evalue": "invalid syntax (<ipython-input-52-04cb826daf90>, line 1)",
     "output_type": "error",
     "traceback": [
      "\u001b[1;36m  File \u001b[1;32m\"<ipython-input-52-04cb826daf90>\"\u001b[1;36m, line \u001b[1;32m1\u001b[0m\n\u001b[1;33m    lambda = 5\u001b[0m\n\u001b[1;37m           ^\u001b[0m\n\u001b[1;31mSyntaxError\u001b[0m\u001b[1;31m:\u001b[0m invalid syntax\n"
     ]
    }
   ],
   "source": [
    "lambda = 5"
   ]
  },
  {
   "cell_type": "code",
   "execution_count": 41,
   "metadata": {},
   "outputs": [],
   "source": [
    "# Identifiers\n",
    "\n",
    "_a = 10\n"
   ]
  },
  {
   "cell_type": "code",
   "execution_count": 42,
   "metadata": {},
   "outputs": [
    {
     "data": {
      "text/plain": [
       "10"
      ]
     },
     "execution_count": 42,
     "metadata": {},
     "output_type": "execute_result"
    }
   ],
   "source": [
    "_a"
   ]
  },
  {
   "cell_type": "code",
   "execution_count": 53,
   "metadata": {},
   "outputs": [
    {
     "data": {
      "text/plain": [
       "' This is a \\nmultiline \\ncomment'"
      ]
     },
     "execution_count": 53,
     "metadata": {},
     "output_type": "execute_result"
    }
   ],
   "source": [
    "#multiline comments\n",
    "\n",
    "#cqkhvvwjl\n",
    "#cbj wljf\n",
    "#v j lkf p\n",
    "\n",
    "\"\"\" This is a \n",
    "multiline \n",
    "comment\"\"\""
   ]
  },
  {
   "cell_type": "code",
   "execution_count": 61,
   "metadata": {},
   "outputs": [
    {
     "name": "stdout",
     "output_type": "stream",
     "text": [
      "0\n",
      "50\n",
      "1\n",
      "50\n",
      "2\n",
      "50\n",
      "3\n",
      "50\n",
      "4\n",
      "50\n",
      "5\n",
      "50\n",
      "6\n",
      "50\n",
      "7\n",
      "50\n",
      "8\n",
      "50\n",
      "9\n",
      "50\n",
      "100\n"
     ]
    }
   ],
   "source": [
    "# Identation\n",
    "\n",
    "\n",
    "# if { fjkblwrn;vnwekn\n",
    "#   else{jlcblbvflbe}}\n",
    "\n",
    "\n",
    "for i in range(10):\n",
    "    print(i)\n",
    "    print(50)\n",
    "    \n",
    "print(100)\n"
   ]
  },
  {
   "cell_type": "code",
   "execution_count": 62,
   "metadata": {},
   "outputs": [
    {
     "name": "stdout",
     "output_type": "stream",
     "text": [
      "4.5\n",
      "4\n",
      "5.5\n",
      "5\n",
      "6.5\n",
      "6\n",
      "7.5\n",
      "7\n",
      "8.5\n",
      "8\n"
     ]
    }
   ],
   "source": [
    "for i in range(4,9):\n",
    "    print(i+0.5)\n",
    "    print(i)\n",
    "    \n"
   ]
  },
  {
   "cell_type": "code",
   "execution_count": 63,
   "metadata": {},
   "outputs": [
    {
     "name": "stdout",
     "output_type": "stream",
     "text": [
      "4.5\n",
      "5\n",
      "5.5\n",
      "6\n",
      "6.5\n",
      "7\n",
      "7.5\n",
      "8\n"
     ]
    }
   ],
   "source": [
    "for i in range(5,9):print(i-0.5); print(i)\n"
   ]
  },
  {
   "cell_type": "code",
   "execution_count": 11,
   "metadata": {},
   "outputs": [
    {
     "data": {
      "text/plain": [
       "1"
      ]
     },
     "execution_count": 11,
     "metadata": {},
     "output_type": "execute_result"
    }
   ],
   "source": [
    "# Python statements\n",
    "\n",
    "a = 1 # single line python statement\n",
    "\n",
    "a"
   ]
  },
  {
   "cell_type": "code",
   "execution_count": 64,
   "metadata": {},
   "outputs": [
    {
     "name": "stdout",
     "output_type": "stream",
     "text": [
      "45\n",
      "55\n"
     ]
    }
   ],
   "source": [
    "# multi line statements\n",
    "\n",
    "b = (1+2+3+\n",
    "4+5+\n",
    "6+7\n",
    "+8+9)\n",
    "\n",
    "c = 1+2+3+\\\n",
    "4+5+\\\n",
    "6+7+\\\n",
    "8+9+10\n",
    "\n",
    "\n",
    "print(b)\n",
    "print(c)"
   ]
  },
  {
   "cell_type": "code",
   "execution_count": 68,
   "metadata": {},
   "outputs": [
    {
     "name": "stdout",
     "output_type": "stream",
     "text": [
      "[10, 20, 30]\n"
     ]
    }
   ],
   "source": [
    "a= 10; b=20; c=30\n",
    "\n",
    "print([a,b,c])"
   ]
  },
  {
   "cell_type": "code",
   "execution_count": 69,
   "metadata": {},
   "outputs": [
    {
     "name": "stdout",
     "output_type": "stream",
     "text": [
      "10 5.5 DA\n"
     ]
    }
   ],
   "source": [
    "a = 10\n",
    "b= 5.5\n",
    "c= \"DA\"\n",
    "\n",
    "print(a,b,c)"
   ]
  },
  {
   "cell_type": "code",
   "execution_count": 70,
   "metadata": {},
   "outputs": [
    {
     "name": "stdout",
     "output_type": "stream",
     "text": [
      "20 7.5 DS\n"
     ]
    }
   ],
   "source": [
    "a,b,c = 20, 7.5, \"DS\"\n",
    "\n",
    "print(a,b,c)"
   ]
  },
  {
   "cell_type": "code",
   "execution_count": 71,
   "metadata": {},
   "outputs": [
    {
     "name": "stdout",
     "output_type": "stream",
     "text": [
      "1544842368\n"
     ]
    }
   ],
   "source": [
    "x = 3\n",
    "\n",
    "print(id(x))"
   ]
  },
  {
   "cell_type": "code",
   "execution_count": 72,
   "metadata": {},
   "outputs": [
    {
     "name": "stdout",
     "output_type": "stream",
     "text": [
      "1544842368\n"
     ]
    }
   ],
   "source": [
    "y = 3\n",
    "\n",
    "print(id(y))"
   ]
  },
  {
   "cell_type": "code",
   "execution_count": 73,
   "metadata": {},
   "outputs": [
    {
     "name": "stdout",
     "output_type": "stream",
     "text": [
      "1544842336\n"
     ]
    }
   ],
   "source": [
    "z = 2\n",
    "print(id(z))"
   ]
  },
  {
   "cell_type": "code",
   "execution_count": 78,
   "metadata": {},
   "outputs": [
    {
     "name": "stdout",
     "output_type": "stream",
     "text": [
      "<class 'int'>\n",
      "<class 'float'>\n"
     ]
    }
   ],
   "source": [
    "# Data Types\n",
    "\n",
    "a = 5\n",
    "\n",
    "b = 2.5\n",
    "\n",
    "print(type(a))\n",
    "print(type(b))"
   ]
  },
  {
   "cell_type": "code",
   "execution_count": 82,
   "metadata": {},
   "outputs": [
    {
     "data": {
      "text/plain": [
       "True"
      ]
     },
     "execution_count": 82,
     "metadata": {},
     "output_type": "execute_result"
    }
   ],
   "source": [
    "isinstance(a,int)"
   ]
  },
  {
   "cell_type": "code",
   "execution_count": 3,
   "metadata": {},
   "outputs": [
    {
     "name": "stdout",
     "output_type": "stream",
     "text": [
      "<class 'complex'>\n"
     ]
    }
   ],
   "source": [
    "b = 2+5j\n",
    "\n",
    "print(type(b))\n"
   ]
  },
  {
   "cell_type": "code",
   "execution_count": 84,
   "metadata": {},
   "outputs": [
    {
     "data": {
      "text/plain": [
       "True"
      ]
     },
     "execution_count": 84,
     "metadata": {},
     "output_type": "execute_result"
    }
   ],
   "source": [
    "isinstance(b,complex)"
   ]
  },
  {
   "cell_type": "code",
   "execution_count": 85,
   "metadata": {},
   "outputs": [
    {
     "ename": "SyntaxError",
     "evalue": "invalid syntax (<ipython-input-85-07b6ea172e0c>, line 1)",
     "output_type": "error",
     "traceback": [
      "\u001b[1;36m  File \u001b[1;32m\"<ipython-input-85-07b6ea172e0c>\"\u001b[1;36m, line \u001b[1;32m1\u001b[0m\n\u001b[1;33m    p =\u001b[0m\n\u001b[1;37m        ^\u001b[0m\n\u001b[1;31mSyntaxError\u001b[0m\u001b[1;31m:\u001b[0m invalid syntax\n"
     ]
    }
   ],
   "source": [
    "p = "
   ]
  },
  {
   "cell_type": "code",
   "execution_count": 90,
   "metadata": {},
   "outputs": [
    {
     "ename": "NameError",
     "evalue": "name 'p' is not defined",
     "output_type": "error",
     "traceback": [
      "\u001b[1;31m---------------------------------------------------------------------------\u001b[0m",
      "\u001b[1;31mNameError\u001b[0m                                 Traceback (most recent call last)",
      "\u001b[1;32m<ipython-input-90-6c10289a8da7>\u001b[0m in \u001b[0;36m<module>\u001b[1;34m()\u001b[0m\n\u001b[1;32m----> 1\u001b[1;33m \u001b[0mp\u001b[0m\u001b[1;33m\u001b[0m\u001b[0m\n\u001b[0m",
      "\u001b[1;31mNameError\u001b[0m: name 'p' is not defined"
     ]
    }
   ],
   "source": [
    "p"
   ]
  },
  {
   "cell_type": "code",
   "execution_count": 89,
   "metadata": {},
   "outputs": [
    {
     "data": {
      "text/plain": [
       "10"
      ]
     },
     "execution_count": 89,
     "metadata": {},
     "output_type": "execute_result"
    }
   ],
   "source": [
    "a = 10\n",
    "a"
   ]
  },
  {
   "cell_type": "code",
   "execution_count": 52,
   "metadata": {},
   "outputs": [
    {
     "name": "stdout",
     "output_type": "stream",
     "text": [
      "<class 'bool'>\n"
     ]
    }
   ],
   "source": [
    "a = True\n",
    "\n",
    "print(type(a))"
   ]
  },
  {
   "cell_type": "code",
   "execution_count": 53,
   "metadata": {},
   "outputs": [
    {
     "data": {
      "text/plain": [
       "True"
      ]
     },
     "execution_count": 53,
     "metadata": {},
     "output_type": "execute_result"
    }
   ],
   "source": [
    "a"
   ]
  },
  {
   "cell_type": "code",
   "execution_count": 91,
   "metadata": {},
   "outputs": [],
   "source": [
    "# Strings\n",
    "\n",
    "s = \"This is Data Anlytics Course\"\n"
   ]
  },
  {
   "cell_type": "code",
   "execution_count": 92,
   "metadata": {},
   "outputs": [
    {
     "data": {
      "text/plain": [
       "'T'"
      ]
     },
     "execution_count": 92,
     "metadata": {},
     "output_type": "execute_result"
    }
   ],
   "source": [
    "s[0]"
   ]
  },
  {
   "cell_type": "code",
   "execution_count": 93,
   "metadata": {},
   "outputs": [
    {
     "data": {
      "text/plain": [
       "'e'"
      ]
     },
     "execution_count": 93,
     "metadata": {},
     "output_type": "execute_result"
    }
   ],
   "source": [
    "s[-1]"
   ]
  },
  {
   "cell_type": "code",
   "execution_count": 96,
   "metadata": {},
   "outputs": [
    {
     "data": {
      "text/plain": [
       "'is Data An'"
      ]
     },
     "execution_count": 96,
     "metadata": {},
     "output_type": "execute_result"
    }
   ],
   "source": [
    "s[5:15]"
   ]
  },
  {
   "cell_type": "code",
   "execution_count": 1,
   "metadata": {},
   "outputs": [
    {
     "name": "stdout",
     "output_type": "stream",
     "text": [
      "<class 'list'> <class 'list'> <class 'list'>\n"
     ]
    }
   ],
   "source": [
    "# Data Structures\n",
    "# 1. Lists\n",
    "\n",
    "# ordered sequence- indexable\n",
    "# square brackets\n",
    "# mutable\n",
    "\n",
    "\n",
    "a = [1,2,3,4]\n",
    "\n",
    "b = [1,2.2,\"DS\"]\n",
    "\n",
    "c = [1,2,[3,4],[\"DS\",5.6]]\n",
    "\n",
    "d = [1,2,[3,4],[\"DS\",5.6], (\"DA\",\"ML\")]\n",
    "\n",
    "print(type(a), type(b), type(c))"
   ]
  },
  {
   "cell_type": "code",
   "execution_count": 2,
   "metadata": {},
   "outputs": [
    {
     "data": {
      "text/plain": [
       "(3, 2.2, [3, 4], 4, 'DA')"
      ]
     },
     "execution_count": 2,
     "metadata": {},
     "output_type": "execute_result"
    }
   ],
   "source": [
    "a[2], b[1], c[2], c[2][1],d[4][0] "
   ]
  },
  {
   "cell_type": "code",
   "execution_count": 3,
   "metadata": {},
   "outputs": [
    {
     "data": {
      "text/plain": [
       "[1, 2, 5, 4]"
      ]
     },
     "execution_count": 3,
     "metadata": {},
     "output_type": "execute_result"
    }
   ],
   "source": [
    "a[2] = 5\n",
    "\n",
    "a"
   ]
  },
  {
   "cell_type": "code",
   "execution_count": 4,
   "metadata": {},
   "outputs": [
    {
     "ename": "IndexError",
     "evalue": "list assignment index out of range",
     "output_type": "error",
     "traceback": [
      "\u001b[1;31m---------------------------------------------------------------------------\u001b[0m",
      "\u001b[1;31mIndexError\u001b[0m                                Traceback (most recent call last)",
      "\u001b[1;32m<ipython-input-4-e53fd3d1db35>\u001b[0m in \u001b[0;36m<module>\u001b[1;34m()\u001b[0m\n\u001b[1;32m----> 1\u001b[1;33m \u001b[0ma\u001b[0m\u001b[1;33m[\u001b[0m\u001b[1;36m4\u001b[0m\u001b[1;33m]\u001b[0m \u001b[1;33m=\u001b[0m \u001b[1;36m6\u001b[0m\u001b[1;33m\u001b[0m\u001b[0m\n\u001b[0m",
      "\u001b[1;31mIndexError\u001b[0m: list assignment index out of range"
     ]
    }
   ],
   "source": [
    "a[4] = 6"
   ]
  },
  {
   "cell_type": "code",
   "execution_count": 5,
   "metadata": {},
   "outputs": [],
   "source": [
    "# 2. Tuples\n",
    "\n",
    "# ordered sequence- indexable\n",
    "# parenthesis ()\n",
    "# immutable\n",
    "\n",
    "t = (1, 2.2, \"DS\")\n",
    "t1 = (1,2,3)\n",
    "t2 = (\"DA\",\"DS\",\"ML\")\n",
    "t3 = (1,2,(\"DS\",\"ML\"),[4.5,6])\n"
   ]
  },
  {
   "cell_type": "code",
   "execution_count": 6,
   "metadata": {},
   "outputs": [
    {
     "data": {
      "text/plain": [
       "2.2"
      ]
     },
     "execution_count": 6,
     "metadata": {},
     "output_type": "execute_result"
    }
   ],
   "source": [
    "t[1]"
   ]
  },
  {
   "cell_type": "code",
   "execution_count": 8,
   "metadata": {},
   "outputs": [
    {
     "ename": "TypeError",
     "evalue": "'tuple' object does not support item assignment",
     "output_type": "error",
     "traceback": [
      "\u001b[1;31m---------------------------------------------------------------------------\u001b[0m",
      "\u001b[1;31mTypeError\u001b[0m                                 Traceback (most recent call last)",
      "\u001b[1;32m<ipython-input-8-a51f04c05e2b>\u001b[0m in \u001b[0;36m<module>\u001b[1;34m()\u001b[0m\n\u001b[1;32m----> 1\u001b[1;33m \u001b[0mt\u001b[0m\u001b[1;33m[\u001b[0m\u001b[1;36m2\u001b[0m\u001b[1;33m]\u001b[0m \u001b[1;33m=\u001b[0m \u001b[1;34m\"DA\"\u001b[0m\u001b[1;33m\u001b[0m\u001b[0m\n\u001b[0m",
      "\u001b[1;31mTypeError\u001b[0m: 'tuple' object does not support item assignment"
     ]
    }
   ],
   "source": [
    "t[2] = \"DA\""
   ]
  },
  {
   "cell_type": "code",
   "execution_count": 10,
   "metadata": {},
   "outputs": [
    {
     "data": {
      "text/plain": [
       "(3, 'DS', ('DS', 'ML'), 4.5)"
      ]
     },
     "execution_count": 10,
     "metadata": {},
     "output_type": "execute_result"
    }
   ],
   "source": [
    "t1[2], t2[1], t3[2], t3[3][0]"
   ]
  },
  {
   "cell_type": "code",
   "execution_count": 13,
   "metadata": {},
   "outputs": [
    {
     "data": {
      "text/plain": [
       "8"
      ]
     },
     "execution_count": 13,
     "metadata": {},
     "output_type": "execute_result"
    }
   ],
   "source": [
    "t4 = (1,2,(\"DS\",\"ML\"),(4.5,6),[7,8])\n",
    "\n",
    "t4[4][1]"
   ]
  },
  {
   "cell_type": "code",
   "execution_count": 14,
   "metadata": {},
   "outputs": [
    {
     "ename": "TypeError",
     "evalue": "'tuple' object does not support item assignment",
     "output_type": "error",
     "traceback": [
      "\u001b[1;31m---------------------------------------------------------------------------\u001b[0m",
      "\u001b[1;31mTypeError\u001b[0m                                 Traceback (most recent call last)",
      "\u001b[1;32m<ipython-input-14-a9adb92a3bbb>\u001b[0m in \u001b[0;36m<module>\u001b[1;34m()\u001b[0m\n\u001b[1;32m----> 1\u001b[1;33m \u001b[0mt4\u001b[0m\u001b[1;33m[\u001b[0m\u001b[1;36m4\u001b[0m\u001b[1;33m]\u001b[0m \u001b[1;33m=\u001b[0m \u001b[1;33m[\u001b[0m\u001b[1;36m9\u001b[0m\u001b[1;33m,\u001b[0m\u001b[1;36m10\u001b[0m\u001b[1;33m]\u001b[0m\u001b[1;33m\u001b[0m\u001b[0m\n\u001b[0m",
      "\u001b[1;31mTypeError\u001b[0m: 'tuple' object does not support item assignment"
     ]
    }
   ],
   "source": [
    "t4[4] = [9,10]"
   ]
  },
  {
   "cell_type": "code",
   "execution_count": 15,
   "metadata": {},
   "outputs": [
    {
     "data": {
      "text/plain": [
       "(1, 2, ('DS', 'ML'), (4.5, 6), [9, 10])"
      ]
     },
     "execution_count": 15,
     "metadata": {},
     "output_type": "execute_result"
    }
   ],
   "source": [
    "t4[4][0]=9\n",
    "t4[4][1]=10\n",
    "\n",
    "t4"
   ]
  },
  {
   "cell_type": "code",
   "execution_count": 16,
   "metadata": {},
   "outputs": [],
   "source": [
    "d = [1,2,[3,4],[\"DS\",5.6], (\"DA\",\"ML\")]"
   ]
  },
  {
   "cell_type": "code",
   "execution_count": 17,
   "metadata": {},
   "outputs": [
    {
     "ename": "TypeError",
     "evalue": "'tuple' object does not support item assignment",
     "output_type": "error",
     "traceback": [
      "\u001b[1;31m---------------------------------------------------------------------------\u001b[0m",
      "\u001b[1;31mTypeError\u001b[0m                                 Traceback (most recent call last)",
      "\u001b[1;32m<ipython-input-17-395a28b1fa99>\u001b[0m in \u001b[0;36m<module>\u001b[1;34m()\u001b[0m\n\u001b[1;32m----> 1\u001b[1;33m \u001b[0md\u001b[0m\u001b[1;33m[\u001b[0m\u001b[1;36m4\u001b[0m\u001b[1;33m]\u001b[0m\u001b[1;33m[\u001b[0m\u001b[1;36m1\u001b[0m\u001b[1;33m]\u001b[0m \u001b[1;33m=\u001b[0m \u001b[1;34m\"Data\"\u001b[0m\u001b[1;33m\u001b[0m\u001b[0m\n\u001b[0m",
      "\u001b[1;31mTypeError\u001b[0m: 'tuple' object does not support item assignment"
     ]
    }
   ],
   "source": [
    "d[4][1] = \"Data\""
   ]
  },
  {
   "cell_type": "code",
   "execution_count": 18,
   "metadata": {},
   "outputs": [
    {
     "data": {
      "text/plain": [
       "[1, 2, [3, 4], ['DS', 5.6], ('Data', 'Machine')]"
      ]
     },
     "execution_count": 18,
     "metadata": {},
     "output_type": "execute_result"
    }
   ],
   "source": [
    "d[4] = (\"Data\",\"Machine\")\n",
    "\n",
    "d"
   ]
  },
  {
   "cell_type": "code",
   "execution_count": 19,
   "metadata": {},
   "outputs": [],
   "source": [
    "# 3. Set\n",
    "\n",
    "# unordered - unindexable\n",
    "# {}\n",
    "# saves only unnique vales, if repetions in input will save only one instance of the repititve element\n",
    "\n",
    "\n",
    "a = {10,20,40,50}"
   ]
  },
  {
   "cell_type": "code",
   "execution_count": 20,
   "metadata": {},
   "outputs": [
    {
     "name": "stdout",
     "output_type": "stream",
     "text": [
      "<class 'set'>\n"
     ]
    }
   ],
   "source": [
    "print(type(a))"
   ]
  },
  {
   "cell_type": "code",
   "execution_count": 21,
   "metadata": {},
   "outputs": [
    {
     "name": "stdout",
     "output_type": "stream",
     "text": [
      "{40, 10, 15, 50, 20, 25}\n"
     ]
    }
   ],
   "source": [
    "b = {10,20,40,50, 15, 25, 10, 20}\n",
    "\n",
    "print(b)"
   ]
  },
  {
   "cell_type": "code",
   "execution_count": 94,
   "metadata": {},
   "outputs": [],
   "source": [
    "# 4. Dictionary\n",
    "\n",
    "# unordered sequence - non indexable\n",
    "# {}\n",
    "# Data is saved in Key- Value pair\n",
    "# Values can be access through keys\n",
    "# keys should be unique - to avoid data loss\n",
    "\n",
    "d = {'a':'apple','b':\"banana\", 'c': 'chickoo'}"
   ]
  },
  {
   "cell_type": "code",
   "execution_count": 95,
   "metadata": {},
   "outputs": [
    {
     "data": {
      "text/plain": [
       "'apple'"
      ]
     },
     "execution_count": 95,
     "metadata": {},
     "output_type": "execute_result"
    }
   ],
   "source": [
    "d['a']"
   ]
  },
  {
   "cell_type": "code",
   "execution_count": 96,
   "metadata": {},
   "outputs": [
    {
     "ename": "KeyError",
     "evalue": "'apple'",
     "output_type": "error",
     "traceback": [
      "\u001b[1;31m---------------------------------------------------------------------------\u001b[0m",
      "\u001b[1;31mKeyError\u001b[0m                                  Traceback (most recent call last)",
      "\u001b[1;32m<ipython-input-96-b53234f1902b>\u001b[0m in \u001b[0;36m<module>\u001b[1;34m()\u001b[0m\n\u001b[1;32m----> 1\u001b[1;33m \u001b[0md\u001b[0m\u001b[1;33m[\u001b[0m\u001b[1;34m'apple'\u001b[0m\u001b[1;33m]\u001b[0m\u001b[1;33m\u001b[0m\u001b[0m\n\u001b[0m",
      "\u001b[1;31mKeyError\u001b[0m: 'apple'"
     ]
    }
   ],
   "source": [
    "d['apple']"
   ]
  },
  {
   "cell_type": "code",
   "execution_count": 1,
   "metadata": {},
   "outputs": [],
   "source": [
    "e = {'a':'apple','b':\"banana\", 'c': 'chickoo', 'a':'mango'}"
   ]
  },
  {
   "cell_type": "code",
   "execution_count": 3,
   "metadata": {},
   "outputs": [
    {
     "data": {
      "text/plain": [
       "'mango'"
      ]
     },
     "execution_count": 3,
     "metadata": {},
     "output_type": "execute_result"
    }
   ],
   "source": [
    "e['a']"
   ]
  },
  {
   "cell_type": "code",
   "execution_count": 4,
   "metadata": {},
   "outputs": [],
   "source": [
    "f = {'a':'apple','b':\"banana\", 'c': 'chickoo', 'a':'mango', 'a': 'orange'}"
   ]
  },
  {
   "cell_type": "code",
   "execution_count": 101,
   "metadata": {},
   "outputs": [
    {
     "data": {
      "text/plain": [
       "'orange'"
      ]
     },
     "execution_count": 101,
     "metadata": {},
     "output_type": "execute_result"
    }
   ],
   "source": [
    "f['a']"
   ]
  },
  {
   "cell_type": "code",
   "execution_count": 5,
   "metadata": {},
   "outputs": [
    {
     "name": "stdout",
     "output_type": "stream",
     "text": [
      "{'a': 'orange', 'b': 'banana', 'c': 'chickoo'}\n"
     ]
    }
   ],
   "source": [
    "print(f)"
   ]
  },
  {
   "cell_type": "code",
   "execution_count": 1,
   "metadata": {},
   "outputs": [],
   "source": [
    "# conversion of data types \n",
    "\n",
    "# int -> float, string\n",
    "# float -> string, int\n",
    "# string -> int, float\n",
    "\n",
    "# how to take input  from user\n",
    "# output formatting\n",
    "\n",
    "# types of operators and their details"
   ]
  },
  {
   "cell_type": "code",
   "execution_count": 11,
   "metadata": {},
   "outputs": [
    {
     "name": "stdout",
     "output_type": "stream",
     "text": [
      "5\n"
     ]
    }
   ],
   "source": [
    "a = 5\n",
    "print(a)"
   ]
  },
  {
   "cell_type": "code",
   "execution_count": 12,
   "metadata": {},
   "outputs": [
    {
     "data": {
      "text/plain": [
       "5.0"
      ]
     },
     "execution_count": 12,
     "metadata": {},
     "output_type": "execute_result"
    }
   ],
   "source": [
    "float(a)"
   ]
  },
  {
   "cell_type": "code",
   "execution_count": 13,
   "metadata": {},
   "outputs": [
    {
     "data": {
      "text/plain": [
       "int"
      ]
     },
     "execution_count": 13,
     "metadata": {},
     "output_type": "execute_result"
    }
   ],
   "source": [
    "type(a)"
   ]
  },
  {
   "cell_type": "code",
   "execution_count": 14,
   "metadata": {},
   "outputs": [
    {
     "data": {
      "text/plain": [
       "'5'"
      ]
     },
     "execution_count": 14,
     "metadata": {},
     "output_type": "execute_result"
    }
   ],
   "source": [
    "str(a)"
   ]
  },
  {
   "cell_type": "code",
   "execution_count": 15,
   "metadata": {},
   "outputs": [
    {
     "name": "stdout",
     "output_type": "stream",
     "text": [
      "6.2\n"
     ]
    }
   ],
   "source": [
    "b = 6.2\n",
    "print(b)"
   ]
  },
  {
   "cell_type": "code",
   "execution_count": 16,
   "metadata": {},
   "outputs": [
    {
     "data": {
      "text/plain": [
       "float"
      ]
     },
     "execution_count": 16,
     "metadata": {},
     "output_type": "execute_result"
    }
   ],
   "source": [
    "type(b)"
   ]
  },
  {
   "cell_type": "code",
   "execution_count": 17,
   "metadata": {},
   "outputs": [
    {
     "data": {
      "text/plain": [
       "6"
      ]
     },
     "execution_count": 17,
     "metadata": {},
     "output_type": "execute_result"
    }
   ],
   "source": [
    "int(b)"
   ]
  },
  {
   "cell_type": "code",
   "execution_count": 18,
   "metadata": {},
   "outputs": [
    {
     "data": {
      "text/plain": [
       "'6.2'"
      ]
     },
     "execution_count": 18,
     "metadata": {},
     "output_type": "execute_result"
    }
   ],
   "source": [
    "str(b)"
   ]
  },
  {
   "cell_type": "code",
   "execution_count": 19,
   "metadata": {},
   "outputs": [
    {
     "name": "stdout",
     "output_type": "stream",
     "text": [
      "abc\n"
     ]
    }
   ],
   "source": [
    "c = 'abc'\n",
    "print(c)"
   ]
  },
  {
   "cell_type": "code",
   "execution_count": 20,
   "metadata": {},
   "outputs": [
    {
     "ename": "ValueError",
     "evalue": "invalid literal for int() with base 10: 'abc'",
     "output_type": "error",
     "traceback": [
      "\u001b[1;31m---------------------------------------------------------------------------\u001b[0m",
      "\u001b[1;31mValueError\u001b[0m                                Traceback (most recent call last)",
      "\u001b[1;32m<ipython-input-20-089eb950f64f>\u001b[0m in \u001b[0;36m<module>\u001b[1;34m()\u001b[0m\n\u001b[1;32m----> 1\u001b[1;33m \u001b[0mint\u001b[0m\u001b[1;33m(\u001b[0m\u001b[0mc\u001b[0m\u001b[1;33m)\u001b[0m\u001b[1;33m\u001b[0m\u001b[0m\n\u001b[0m",
      "\u001b[1;31mValueError\u001b[0m: invalid literal for int() with base 10: 'abc'"
     ]
    }
   ],
   "source": [
    "int(c)"
   ]
  },
  {
   "cell_type": "code",
   "execution_count": 21,
   "metadata": {},
   "outputs": [
    {
     "name": "stdout",
     "output_type": "stream",
     "text": [
      "123\n"
     ]
    }
   ],
   "source": [
    "d = '123'\n",
    "print(d)\n"
   ]
  },
  {
   "cell_type": "code",
   "execution_count": 22,
   "metadata": {},
   "outputs": [
    {
     "data": {
      "text/plain": [
       "123"
      ]
     },
     "execution_count": 22,
     "metadata": {},
     "output_type": "execute_result"
    }
   ],
   "source": [
    "int(d)"
   ]
  },
  {
   "cell_type": "code",
   "execution_count": 23,
   "metadata": {},
   "outputs": [
    {
     "data": {
      "text/plain": [
       "123.0"
      ]
     },
     "execution_count": 23,
     "metadata": {},
     "output_type": "execute_result"
    }
   ],
   "source": [
    "float(d)"
   ]
  },
  {
   "cell_type": "code",
   "execution_count": 24,
   "metadata": {},
   "outputs": [
    {
     "data": {
      "text/plain": [
       "123.0"
      ]
     },
     "execution_count": 24,
     "metadata": {},
     "output_type": "execute_result"
    }
   ],
   "source": [
    "float(d)"
   ]
  },
  {
   "cell_type": "code",
   "execution_count": 25,
   "metadata": {},
   "outputs": [
    {
     "name": "stdout",
     "output_type": "stream",
     "text": [
      "Congratulations Satish! You just wrote 100 lines of Code\n"
     ]
    }
   ],
   "source": [
    "user = 'Satish'\n",
    "lines = 100\n",
    "\n",
    "print(\"Congratulations \" + user + \"! You just wrote\" + \" \" + str(lines) + \" \" + \"lines of Code\")"
   ]
  },
  {
   "cell_type": "code",
   "execution_count": 26,
   "metadata": {},
   "outputs": [
    {
     "name": "stdout",
     "output_type": "stream",
     "text": [
      "congratulations Satish you just wrote 100 lines of code\n"
     ]
    }
   ],
   "source": [
    "print(\"congratulations\",user,\"you just wrote\",lines,\"lines of code\")"
   ]
  },
  {
   "cell_type": "code",
   "execution_count": 29,
   "metadata": {},
   "outputs": [
    {
     "data": {
      "text/plain": [
       "list"
      ]
     },
     "execution_count": 29,
     "metadata": {},
     "output_type": "execute_result"
    }
   ],
   "source": [
    "a= [1,2,3,4,1,2]\n",
    "\n",
    "type(a)"
   ]
  },
  {
   "cell_type": "code",
   "execution_count": 30,
   "metadata": {},
   "outputs": [
    {
     "name": "stdout",
     "output_type": "stream",
     "text": [
      "{1, 2, 3, 4}\n",
      "<class 'set'>\n"
     ]
    }
   ],
   "source": [
    "S = set(a)\n",
    "print(S)\n",
    "print(type(S))"
   ]
  },
  {
   "cell_type": "code",
   "execution_count": 31,
   "metadata": {},
   "outputs": [
    {
     "name": "stdout",
     "output_type": "stream",
     "text": [
      "(1, 2, 3, 4, 1, 2)\n",
      "<class 'tuple'>\n"
     ]
    }
   ],
   "source": [
    "t = tuple(a)\n",
    "print(t)\n",
    "print(type(t))"
   ]
  },
  {
   "cell_type": "code",
   "execution_count": 32,
   "metadata": {},
   "outputs": [
    {
     "data": {
      "text/plain": [
       "tuple"
      ]
     },
     "execution_count": 32,
     "metadata": {},
     "output_type": "execute_result"
    }
   ],
   "source": [
    "t2 = ()\n",
    "\n",
    "type(t2)"
   ]
  },
  {
   "cell_type": "code",
   "execution_count": 34,
   "metadata": {},
   "outputs": [
    {
     "data": {
      "text/plain": [
       "['H', 'e', 'l', 'l', 'o']"
      ]
     },
     "execution_count": 34,
     "metadata": {},
     "output_type": "execute_result"
    }
   ],
   "source": [
    "s1 = \"Hello\"\n",
    "\n",
    "list(s1)"
   ]
  },
  {
   "cell_type": "code",
   "execution_count": 5,
   "metadata": {},
   "outputs": [
    {
     "name": "stdin",
     "output_type": "stream",
     "text": [
      "Enter an integer: 1.2\n"
     ]
    },
    {
     "ename": "ValueError",
     "evalue": "invalid literal for int() with base 10: '1.2'",
     "output_type": "error",
     "traceback": [
      "\u001b[1;31m---------------------------------------------------------------------------\u001b[0m",
      "\u001b[1;31mValueError\u001b[0m                                Traceback (most recent call last)",
      "Cell \u001b[1;32mIn[5], line 3\u001b[0m\n\u001b[0;32m      1\u001b[0m \u001b[38;5;66;03m# taking input from user for addtion of two numbers\u001b[39;00m\n\u001b[1;32m----> 3\u001b[0m num1 \u001b[38;5;241m=\u001b[39m \u001b[38;5;28;43mint\u001b[39;49m\u001b[43m(\u001b[49m\u001b[38;5;28;43minput\u001b[39;49m\u001b[43m(\u001b[49m\u001b[38;5;124;43m\"\u001b[39;49m\u001b[38;5;124;43mEnter an integer:\u001b[39;49m\u001b[38;5;124;43m\"\u001b[39;49m\u001b[43m)\u001b[49m\u001b[43m)\u001b[49m\n\u001b[0;32m      4\u001b[0m num2 \u001b[38;5;241m=\u001b[39m \u001b[38;5;28mint\u001b[39m(\u001b[38;5;28minput\u001b[39m(\u001b[38;5;124m\"\u001b[39m\u001b[38;5;124mEnter an integer:\u001b[39m\u001b[38;5;124m\"\u001b[39m))\n\u001b[0;32m      6\u001b[0m result \u001b[38;5;241m=\u001b[39m num1 \u001b[38;5;241m+\u001b[39m num2\n",
      "\u001b[1;31mValueError\u001b[0m: invalid literal for int() with base 10: '1.2'"
     ]
    }
   ],
   "source": [
    "# taking input from user for addtion of two numbers\n",
    "\n",
    "num1 = int(input(\"Enter an integer:\"))\n",
    "num2 = int(input(\"Enter an integer:\"))\n",
    "\n",
    "result = num1 + num2\n",
    "\n",
    "print(result)\n"
   ]
  },
  {
   "cell_type": "code",
   "execution_count": 36,
   "metadata": {},
   "outputs": [
    {
     "name": "stdout",
     "output_type": "stream",
     "text": [
      "Enter an integer:10.2\n",
      "Enter an integer:13.6\n",
      "23.799999999999997\n"
     ]
    }
   ],
   "source": [
    "num1 = float(input(\"Enter an integer:\"))\n",
    "num2 = float(input(\"Enter an integer:\"))\n",
    "\n",
    "result = num1 + num2\n",
    "\n",
    "print(result)"
   ]
  },
  {
   "cell_type": "code",
   "execution_count": null,
   "metadata": {},
   "outputs": [],
   "source": [
    "num1 = float(input(\"Enter an integer:\"))\n",
    "num2 = float(input(\"Enter an integer:\"))\n",
    "\n",
    "result = num1/num2\n",
    "\n",
    "print(result)"
   ]
  },
  {
   "cell_type": "code",
   "execution_count": 40,
   "metadata": {},
   "outputs": [
    {
     "name": "stdout",
     "output_type": "stream",
     "text": [
      "Enter an integer:15\n",
      "Enter an integer:6\n",
      "2.5\n"
     ]
    }
   ],
   "source": [
    "\n",
    "num1 = int(input(\"Enter an integer:\"))\n",
    "num2 = int(input(\"Enter an integer:\"))\n",
    "\n",
    "result = num1/num2\n",
    "\n",
    "print(result)"
   ]
  },
  {
   "cell_type": "code",
   "execution_count": 42,
   "metadata": {},
   "outputs": [
    {
     "name": "stdout",
     "output_type": "stream",
     "text": [
      "Hello World\n"
     ]
    }
   ],
   "source": [
    "#Output formatting\n",
    "\n",
    "print(\"Hello World\")"
   ]
  },
  {
   "cell_type": "code",
   "execution_count": 43,
   "metadata": {},
   "outputs": [
    {
     "name": "stdout",
     "output_type": "stream",
     "text": [
      "5 10.5\n",
      "The value of a is 5\n",
      "The value of b is 10.5\n",
      "The value of a and b are 5 and 10.5\n",
      "The value of a and b are 5 and 10.5\n"
     ]
    }
   ],
   "source": [
    "a = 5\n",
    "b= 10.5\n",
    "\n",
    "print(a,b)\n",
    "\n",
    "print(\"The value of a is\", a)\n",
    "print(\"The value of b is\", b)\n",
    "print(\"The value of a and b are\", a, \"and\", b)\n",
    "\n",
    "print(\"The value of a and b are \"+ str(a)+ \" and \"+str(b))\n"
   ]
  },
  {
   "cell_type": "code",
   "execution_count": 44,
   "metadata": {},
   "outputs": [
    {
     "name": "stdout",
     "output_type": "stream",
     "text": [
      "The value of a is 5 and b is 10\n",
      "The value of a is 5 and b is 10\n",
      "The value of a is 10 and b is 5\n"
     ]
    }
   ],
   "source": [
    "a = 5\n",
    "b = 10\n",
    "\n",
    "print(\"The value of a is {} and b is {}\".format(a,b))\n",
    "print(\"The value of a is {0} and b is {1}\".format(a,b))\n",
    "print(\"The value of a is {1} and b is {0}\".format(a,b))\n"
   ]
  },
  {
   "cell_type": "code",
   "execution_count": 45,
   "metadata": {},
   "outputs": [
    {
     "name": "stdout",
     "output_type": "stream",
     "text": [
      "The value of a is [] and b is []\n",
      "The value of a is 5 and b is 10\n",
      "The value of a is 10 and b is 5\n"
     ]
    }
   ],
   "source": [
    "a = 5\n",
    "b = 10\n",
    "\n",
    "print(\"The value of a is [] and b is []\".format(a,b))\n",
    "print(\"The value of a is {0} and b is {1}\".format(a,b))\n",
    "print(\"The value of a is {1} and b is {0}\".format(a,b))\n"
   ]
  },
  {
   "cell_type": "code",
   "execution_count": 46,
   "metadata": {},
   "outputs": [
    {
     "name": "stdout",
     "output_type": "stream",
     "text": [
      "Hello Satish, Good Morning\n"
     ]
    }
   ],
   "source": [
    "print(\"Hello {name}, Good {greeting}\".format(name = \"Satish\", greeting = \"Morning\"))"
   ]
  },
  {
   "cell_type": "code",
   "execution_count": 8,
   "metadata": {},
   "outputs": [],
   "source": [
    "# operators\n",
    "\n",
    "# 1) Arithmatic Operators -> +,-,*,/,%, //, **\n",
    "# 2) comparison operators -> >, <,>=, <= , == , != \n",
    "# 3) logical Operators -> and, or ,not\n",
    "# 4) Assignment Operator -> =, +=, -=, *= , /=, **= \n",
    "# 5) Bitwise Operators -> & (and), | (or), ~(not), bitwise XOR,bitwise left shit, bitwise right shift\n",
    "\n",
    "\n",
    "# Binary of 10 =  2^3+2^2+2^1+2^0\n",
    "#  14              1   1   1   0\n",
    "#  15              1   1  1   1\n",
    "\n",
    "\n",
    "# 6) Identitiy Operator -> is, is not\n",
    "\n",
    "# 7) Membership Operator -> in, not in\n"
   ]
  },
  {
   "cell_type": "code",
   "execution_count": 51,
   "metadata": {},
   "outputs": [
    {
     "name": "stdout",
     "output_type": "stream",
     "text": [
      "1\n",
      "2\n",
      "3\n",
      "4\n",
      "5\n",
      "2\n",
      "7\n",
      "8\n",
      "9\n",
      "10\n"
     ]
    }
   ],
   "source": [
    "a = [1,6,3,4,5,2,10,9,8,7]\n",
    "\n",
    "j = 0\n",
    "for i in a:\n",
    "    if i < 6:\n",
    "        print(i)\n",
    "        j += 1\n",
    "        \n",
    "    else:\n",
    "        j+=1\n",
    "        print(j)"
   ]
  },
  {
   "cell_type": "code",
   "execution_count": null,
   "metadata": {},
   "outputs": [],
   "source": [
    "# Control flow statement:  \n",
    "\n",
    "# 1) if- else, if- elif- else\n",
    "\n",
    "# If statements:\n",
    " # Syntax: \n",
    "     #if test expression:\n",
    "        #statement(s)\n",
    "        \n",
    "# If - else statement:\n",
    "# Syntax:\n",
    "    #if test expression:\n",
    "        #statement(s)\n",
    "        \n",
    "    #else:\n",
    "           #statement(s)\n",
    "        \n",
    "# If -elif- else statement:\n",
    "# Syntax:\n",
    "    #if test expression:\n",
    "        #statement(s)\n",
    "        \n",
    "    #elif test expression:\n",
    "         #statement(s)\n",
    "        \n",
    "    #else:\n",
    "           #statement(s)"
   ]
  },
  {
   "cell_type": "code",
   "execution_count": 55,
   "metadata": {},
   "outputs": [
    {
     "name": "stdout",
     "output_type": "stream",
     "text": [
      "Enter an integer:0\n",
      "Neither Negative nor Positive\n"
     ]
    }
   ],
   "source": [
    "num = float(input(\"Enter an integer:\"))\n",
    "\n",
    "if num >10:\n",
    "    print(\"Positive Number\")\n",
    "    \n",
    "elif num == 0:\n",
    "    print(\"Neither Negative nor Positive\")\n",
    "    \n",
    "else:\n",
    "    print(\"Negative Number\")\n",
    "\n"
   ]
  },
  {
   "cell_type": "code",
   "execution_count": 55,
   "metadata": {},
   "outputs": [
    {
     "name": "stdout",
     "output_type": "stream",
     "text": [
      "Enter an integer:0\n",
      "Neither Negative nor Positive\n"
     ]
    }
   ],
   "source": [
    "num = float(input(\"Enter an integer:\"))\n",
    "\n",
    "if num >0:\n",
    "    print(\"Positive Number\")\n",
    "    \n",
    "elif num == 0:\n",
    "    print(\"Neither Negative nor Positive\")\n",
    "    \n",
    "else:\n",
    "    print(\"Negative Number\")\n",
    "\n"
   ]
  },
  {
   "cell_type": "code",
   "execution_count": 31,
   "metadata": {},
   "outputs": [],
   "source": [
    "# 2) While loop\n",
    "\n",
    "# Syntax:\n",
    "#    while text_expression:\n",
    "#          Body of while\n",
    "\n",
    "\n",
    "#important: index increment should always be given with while loop to stop the loop at required position- \n",
    "#else it will go into infinite loop"
   ]
  },
  {
   "cell_type": "code",
   "execution_count": 59,
   "metadata": {},
   "outputs": [
    {
     "name": "stdout",
     "output_type": "stream",
     "text": [
      "Enter an integer:31\n",
      "31 is a prime number\n"
     ]
    }
   ],
   "source": [
    "# write a program to check if a number is prime or not and what are its factors\n",
    "\n",
    "\n",
    "num = int(input(\"Enter an integer:\"))\n",
    "\n",
    "isdivisible = False;\n",
    "\n",
    "i = 2;\n",
    "\n",
    "while i < num:\n",
    "    if num % i == 0:\n",
    "        isdivisible = True\n",
    "        print(\"{} is divisbile by {}\".format(num,i))\n",
    "    i = i+1;\n",
    "        \n",
    "if isdivisible == True:\n",
    "    print(\"{} is not a prime number\".format(num))\n",
    "    \n",
    "else:\n",
    "    print(\"{} is a prime number\".format(num)\n",
    "          \n",
    "    \n",
    "\n",
    "\n",
    "    "
   ]
  },
  {
   "cell_type": "code",
   "execution_count": 59,
   "metadata": {},
   "outputs": [
    {
     "name": "stdout",
     "output_type": "stream",
     "text": [
      "Enter an integer:31\n",
      "31 is a prime number\n"
     ]
    }
   ],
   "source": [
    "# write a program to check if a number is prime or not and what are its factors\n",
    "\n",
    "\n",
    "num = int(input(\"Enter an integer:\"))\n",
    "\n",
    "isdivisible = False;\n",
    "\n",
    "i = 2;\n",
    "\n",
    "while i < num:\n",
    "    if num % i == 0:\n",
    "        isdivisible = True\n",
    "        print(\"{} is divisbile by {}\".format(num,i))\n",
    "    i = i+1;\n",
    "        \n",
    "if isdivisible == True:\n",
    "    print(\"{} is not a prime number\".format(num))\n",
    "    \n",
    "else:\n",
    "    print(\"{} is a prime number\".format(num)\n",
    "          "
   ]
  },
  {
   "cell_type": "code",
   "execution_count": 1,
   "metadata": {},
   "outputs": [],
   "source": [
    "# 3) For loop;\n",
    "\n",
    "# for- else loop\n",
    "\n",
    "# break statement\n",
    "\n",
    "# continue statement"
   ]
  },
  {
   "cell_type": "code",
   "execution_count": 2,
   "metadata": {},
   "outputs": [],
   "source": [
    "# 3) For Loop - helps us in tranversale( to iterate over a data sequence)\n",
    "\n",
    "# Syntax:\n",
    "\n",
    "# for ele in sequence:\n",
    "#       body of for\n",
    "\n",
    "\n",
    "\n",
    "# we can use else with for as well, but it is optional\n",
    "\n",
    "# break statements effect on for-else loop"
   ]
  },
  {
   "cell_type": "code",
   "execution_count": 60,
   "metadata": {},
   "outputs": [
    {
     "name": "stdout",
     "output_type": "stream",
     "text": [
      "1\n",
      "2\n",
      "3\n",
      "No number left\n"
     ]
    }
   ],
   "source": [
    "num = [1,2,3]\n",
    "j = 0\n",
    "for i in num:\n",
    "    print(i)\n",
    "    j+= i\n",
    "else:\n",
    "    print(j)\n",
    "    print(\"No number left\")\n"
   ]
  },
  {
   "cell_type": "code",
   "execution_count": 4,
   "metadata": {},
   "outputs": [
    {
     "name": "stdout",
     "output_type": "stream",
     "text": [
      "1\n",
      "2\n"
     ]
    }
   ],
   "source": [
    "num = [1,2,3]\n",
    "\n",
    "for i in num:\n",
    "    print(i)\n",
    "    if i % 2 ==0:\n",
    "        break\n",
    "    \n",
    "else:\n",
    "    print(\"No number left\")"
   ]
  },
  {
   "cell_type": "code",
   "execution_count": 10,
   "metadata": {},
   "outputs": [
    {
     "name": "stdout",
     "output_type": "stream",
     "text": [
      "Prime numbers between 10 and 50 are:\n",
      "i value 10\n",
      " J IS 2\n",
      "NOT PRIME IS 10 divided by 2\n",
      " J IS 3\n",
      " J IS 4\n",
      " J IS 5\n",
      "NOT PRIME IS 10 divided by 5\n",
      " J IS 6\n",
      " J IS 7\n",
      " J IS 8\n",
      " J IS 9\n",
      "i value 11\n",
      " J IS 2\n",
      " J IS 3\n",
      " J IS 4\n",
      " J IS 5\n",
      " J IS 6\n",
      " J IS 7\n",
      " J IS 8\n",
      " J IS 9\n",
      " J IS 10\n",
      "PRIME IS 11\n",
      "i value 12\n",
      " J IS 2\n",
      "NOT PRIME IS 12 divided by 2\n",
      " J IS 3\n",
      "NOT PRIME IS 12 divided by 3\n",
      " J IS 4\n",
      "NOT PRIME IS 12 divided by 4\n",
      " J IS 5\n",
      " J IS 6\n",
      "NOT PRIME IS 12 divided by 6\n",
      " J IS 7\n",
      " J IS 8\n",
      " J IS 9\n",
      " J IS 10\n",
      " J IS 11\n",
      "i value 13\n",
      " J IS 2\n",
      " J IS 3\n",
      " J IS 4\n",
      " J IS 5\n",
      " J IS 6\n",
      " J IS 7\n",
      " J IS 8\n",
      " J IS 9\n",
      " J IS 10\n",
      " J IS 11\n",
      " J IS 12\n",
      "PRIME IS 13\n",
      "i value 14\n",
      " J IS 2\n",
      "NOT PRIME IS 14 divided by 2\n",
      " J IS 3\n",
      " J IS 4\n",
      " J IS 5\n",
      " J IS 6\n",
      " J IS 7\n",
      "NOT PRIME IS 14 divided by 7\n",
      " J IS 8\n",
      " J IS 9\n",
      " J IS 10\n",
      " J IS 11\n",
      " J IS 12\n",
      " J IS 13\n",
      "i value 15\n",
      " J IS 2\n",
      " J IS 3\n",
      "NOT PRIME IS 15 divided by 3\n",
      " J IS 4\n",
      " J IS 5\n",
      "NOT PRIME IS 15 divided by 5\n",
      " J IS 6\n",
      " J IS 7\n",
      " J IS 8\n",
      " J IS 9\n",
      " J IS 10\n",
      " J IS 11\n",
      " J IS 12\n",
      " J IS 13\n",
      " J IS 14\n",
      "i value 16\n",
      " J IS 2\n",
      "NOT PRIME IS 16 divided by 2\n",
      " J IS 3\n",
      " J IS 4\n",
      "NOT PRIME IS 16 divided by 4\n",
      " J IS 5\n",
      " J IS 6\n",
      " J IS 7\n",
      " J IS 8\n",
      "NOT PRIME IS 16 divided by 8\n",
      " J IS 9\n",
      " J IS 10\n",
      " J IS 11\n",
      " J IS 12\n",
      " J IS 13\n",
      " J IS 14\n",
      " J IS 15\n",
      "i value 17\n",
      " J IS 2\n",
      " J IS 3\n",
      " J IS 4\n",
      " J IS 5\n",
      " J IS 6\n",
      " J IS 7\n",
      " J IS 8\n",
      " J IS 9\n",
      " J IS 10\n",
      " J IS 11\n",
      " J IS 12\n",
      " J IS 13\n",
      " J IS 14\n",
      " J IS 15\n",
      " J IS 16\n",
      "PRIME IS 17\n",
      "i value 18\n",
      " J IS 2\n",
      "NOT PRIME IS 18 divided by 2\n",
      " J IS 3\n",
      "NOT PRIME IS 18 divided by 3\n",
      " J IS 4\n",
      " J IS 5\n",
      " J IS 6\n",
      "NOT PRIME IS 18 divided by 6\n",
      " J IS 7\n",
      " J IS 8\n",
      " J IS 9\n",
      "NOT PRIME IS 18 divided by 9\n",
      " J IS 10\n",
      " J IS 11\n",
      " J IS 12\n",
      " J IS 13\n",
      " J IS 14\n",
      " J IS 15\n",
      " J IS 16\n",
      " J IS 17\n",
      "i value 19\n",
      " J IS 2\n",
      " J IS 3\n",
      " J IS 4\n",
      " J IS 5\n",
      " J IS 6\n",
      " J IS 7\n",
      " J IS 8\n",
      " J IS 9\n",
      " J IS 10\n",
      " J IS 11\n",
      " J IS 12\n",
      " J IS 13\n",
      " J IS 14\n",
      " J IS 15\n",
      " J IS 16\n",
      " J IS 17\n",
      " J IS 18\n",
      "PRIME IS 19\n",
      "i value 20\n",
      " J IS 2\n",
      "NOT PRIME IS 20 divided by 2\n",
      " J IS 3\n",
      " J IS 4\n",
      "NOT PRIME IS 20 divided by 4\n",
      " J IS 5\n",
      "NOT PRIME IS 20 divided by 5\n",
      " J IS 6\n",
      " J IS 7\n",
      " J IS 8\n",
      " J IS 9\n",
      " J IS 10\n",
      "NOT PRIME IS 20 divided by 10\n",
      " J IS 11\n",
      " J IS 12\n",
      " J IS 13\n",
      " J IS 14\n",
      " J IS 15\n",
      " J IS 16\n",
      " J IS 17\n",
      " J IS 18\n",
      " J IS 19\n",
      "i value 21\n",
      " J IS 2\n",
      " J IS 3\n",
      "NOT PRIME IS 21 divided by 3\n",
      " J IS 4\n",
      " J IS 5\n",
      " J IS 6\n",
      " J IS 7\n",
      "NOT PRIME IS 21 divided by 7\n",
      " J IS 8\n",
      " J IS 9\n",
      " J IS 10\n",
      " J IS 11\n",
      " J IS 12\n",
      " J IS 13\n",
      " J IS 14\n",
      " J IS 15\n",
      " J IS 16\n",
      " J IS 17\n",
      " J IS 18\n",
      " J IS 19\n",
      " J IS 20\n",
      "i value 22\n",
      " J IS 2\n",
      "NOT PRIME IS 22 divided by 2\n",
      " J IS 3\n",
      " J IS 4\n",
      " J IS 5\n",
      " J IS 6\n",
      " J IS 7\n",
      " J IS 8\n",
      " J IS 9\n",
      " J IS 10\n",
      " J IS 11\n",
      "NOT PRIME IS 22 divided by 11\n",
      " J IS 12\n",
      " J IS 13\n",
      " J IS 14\n",
      " J IS 15\n",
      " J IS 16\n",
      " J IS 17\n",
      " J IS 18\n",
      " J IS 19\n",
      " J IS 20\n",
      " J IS 21\n",
      "i value 23\n",
      " J IS 2\n",
      " J IS 3\n",
      " J IS 4\n",
      " J IS 5\n",
      " J IS 6\n",
      " J IS 7\n",
      " J IS 8\n",
      " J IS 9\n",
      " J IS 10\n",
      " J IS 11\n",
      " J IS 12\n",
      " J IS 13\n",
      " J IS 14\n",
      " J IS 15\n",
      " J IS 16\n",
      " J IS 17\n",
      " J IS 18\n",
      " J IS 19\n",
      " J IS 20\n",
      " J IS 21\n",
      " J IS 22\n",
      "PRIME IS 23\n",
      "i value 24\n",
      " J IS 2\n",
      "NOT PRIME IS 24 divided by 2\n",
      " J IS 3\n",
      "NOT PRIME IS 24 divided by 3\n",
      " J IS 4\n",
      "NOT PRIME IS 24 divided by 4\n",
      " J IS 5\n",
      " J IS 6\n",
      "NOT PRIME IS 24 divided by 6\n",
      " J IS 7\n",
      " J IS 8\n",
      "NOT PRIME IS 24 divided by 8\n",
      " J IS 9\n",
      " J IS 10\n",
      " J IS 11\n",
      " J IS 12\n",
      "NOT PRIME IS 24 divided by 12\n",
      " J IS 13\n",
      " J IS 14\n",
      " J IS 15\n",
      " J IS 16\n",
      " J IS 17\n",
      " J IS 18\n",
      " J IS 19\n",
      " J IS 20\n",
      " J IS 21\n",
      " J IS 22\n",
      " J IS 23\n",
      "i value 25\n",
      " J IS 2\n",
      " J IS 3\n",
      " J IS 4\n",
      " J IS 5\n",
      "NOT PRIME IS 25 divided by 5\n",
      " J IS 6\n",
      " J IS 7\n",
      " J IS 8\n",
      " J IS 9\n",
      " J IS 10\n",
      " J IS 11\n",
      " J IS 12\n",
      " J IS 13\n",
      " J IS 14\n",
      " J IS 15\n",
      " J IS 16\n",
      " J IS 17\n",
      " J IS 18\n",
      " J IS 19\n",
      " J IS 20\n",
      " J IS 21\n",
      " J IS 22\n",
      " J IS 23\n",
      " J IS 24\n",
      "i value 26\n",
      " J IS 2\n",
      "NOT PRIME IS 26 divided by 2\n",
      " J IS 3\n",
      " J IS 4\n",
      " J IS 5\n",
      " J IS 6\n",
      " J IS 7\n",
      " J IS 8\n",
      " J IS 9\n",
      " J IS 10\n",
      " J IS 11\n",
      " J IS 12\n",
      " J IS 13\n",
      "NOT PRIME IS 26 divided by 13\n",
      " J IS 14\n",
      " J IS 15\n",
      " J IS 16\n",
      " J IS 17\n",
      " J IS 18\n",
      " J IS 19\n",
      " J IS 20\n",
      " J IS 21\n",
      " J IS 22\n",
      " J IS 23\n",
      " J IS 24\n",
      " J IS 25\n",
      "i value 27\n",
      " J IS 2\n",
      " J IS 3\n",
      "NOT PRIME IS 27 divided by 3\n",
      " J IS 4\n",
      " J IS 5\n",
      " J IS 6\n",
      " J IS 7\n",
      " J IS 8\n",
      " J IS 9\n",
      "NOT PRIME IS 27 divided by 9\n",
      " J IS 10\n",
      " J IS 11\n",
      " J IS 12\n",
      " J IS 13\n",
      " J IS 14\n",
      " J IS 15\n",
      " J IS 16\n",
      " J IS 17\n",
      " J IS 18\n",
      " J IS 19\n",
      " J IS 20\n",
      " J IS 21\n",
      " J IS 22\n",
      " J IS 23\n",
      " J IS 24\n",
      " J IS 25\n",
      " J IS 26\n",
      "i value 28\n",
      " J IS 2\n",
      "NOT PRIME IS 28 divided by 2\n",
      " J IS 3\n",
      " J IS 4\n",
      "NOT PRIME IS 28 divided by 4\n",
      " J IS 5\n",
      " J IS 6\n",
      " J IS 7\n",
      "NOT PRIME IS 28 divided by 7\n",
      " J IS 8\n",
      " J IS 9\n",
      " J IS 10\n",
      " J IS 11\n",
      " J IS 12\n",
      " J IS 13\n",
      " J IS 14\n",
      "NOT PRIME IS 28 divided by 14\n",
      " J IS 15\n",
      " J IS 16\n",
      " J IS 17\n",
      " J IS 18\n",
      " J IS 19\n",
      " J IS 20\n",
      " J IS 21\n",
      " J IS 22\n",
      " J IS 23\n",
      " J IS 24\n",
      " J IS 25\n",
      " J IS 26\n",
      " J IS 27\n",
      "i value 29\n",
      " J IS 2\n",
      " J IS 3\n",
      " J IS 4\n",
      " J IS 5\n",
      " J IS 6\n",
      " J IS 7\n",
      " J IS 8\n",
      " J IS 9\n",
      " J IS 10\n",
      " J IS 11\n",
      " J IS 12\n",
      " J IS 13\n",
      " J IS 14\n",
      " J IS 15\n",
      " J IS 16\n",
      " J IS 17\n",
      " J IS 18\n",
      " J IS 19\n",
      " J IS 20\n",
      " J IS 21\n",
      " J IS 22\n",
      " J IS 23\n",
      " J IS 24\n",
      " J IS 25\n",
      " J IS 26\n",
      " J IS 27\n",
      " J IS 28\n",
      "PRIME IS 29\n",
      "i value 30\n",
      " J IS 2\n",
      "NOT PRIME IS 30 divided by 2\n",
      " J IS 3\n",
      "NOT PRIME IS 30 divided by 3\n",
      " J IS 4\n",
      " J IS 5\n",
      "NOT PRIME IS 30 divided by 5\n",
      " J IS 6\n",
      "NOT PRIME IS 30 divided by 6\n",
      " J IS 7\n",
      " J IS 8\n",
      " J IS 9\n",
      " J IS 10\n",
      "NOT PRIME IS 30 divided by 10\n",
      " J IS 11\n",
      " J IS 12\n",
      " J IS 13\n",
      " J IS 14\n",
      " J IS 15\n",
      "NOT PRIME IS 30 divided by 15\n",
      " J IS 16\n",
      " J IS 17\n",
      " J IS 18\n",
      " J IS 19\n",
      " J IS 20\n",
      " J IS 21\n",
      " J IS 22\n",
      " J IS 23\n",
      " J IS 24\n",
      " J IS 25\n",
      " J IS 26\n",
      " J IS 27\n",
      " J IS 28\n",
      " J IS 29\n",
      "i value 31\n",
      " J IS 2\n",
      " J IS 3\n",
      " J IS 4\n",
      " J IS 5\n",
      " J IS 6\n",
      " J IS 7\n",
      " J IS 8\n",
      " J IS 9\n",
      " J IS 10\n",
      " J IS 11\n",
      " J IS 12\n",
      " J IS 13\n",
      " J IS 14\n",
      " J IS 15\n",
      " J IS 16\n",
      " J IS 17\n",
      " J IS 18\n",
      " J IS 19\n",
      " J IS 20\n",
      " J IS 21\n",
      " J IS 22\n",
      " J IS 23\n",
      " J IS 24\n",
      " J IS 25\n",
      " J IS 26\n",
      " J IS 27\n",
      " J IS 28\n",
      " J IS 29\n",
      " J IS 30\n",
      "PRIME IS 31\n",
      "i value 32\n",
      " J IS 2\n",
      "NOT PRIME IS 32 divided by 2\n",
      " J IS 3\n",
      " J IS 4\n",
      "NOT PRIME IS 32 divided by 4\n",
      " J IS 5\n",
      " J IS 6\n",
      " J IS 7\n",
      " J IS 8\n",
      "NOT PRIME IS 32 divided by 8\n",
      " J IS 9\n",
      " J IS 10\n",
      " J IS 11\n",
      " J IS 12\n",
      " J IS 13\n",
      " J IS 14\n",
      " J IS 15\n",
      " J IS 16\n",
      "NOT PRIME IS 32 divided by 16\n",
      " J IS 17\n",
      " J IS 18\n",
      " J IS 19\n",
      " J IS 20\n",
      " J IS 21\n",
      " J IS 22\n",
      " J IS 23\n",
      " J IS 24\n",
      " J IS 25\n",
      " J IS 26\n",
      " J IS 27\n",
      " J IS 28\n",
      " J IS 29\n",
      " J IS 30\n",
      " J IS 31\n",
      "i value 33\n",
      " J IS 2\n",
      " J IS 3\n",
      "NOT PRIME IS 33 divided by 3\n",
      " J IS 4\n",
      " J IS 5\n",
      " J IS 6\n",
      " J IS 7\n",
      " J IS 8\n",
      " J IS 9\n",
      " J IS 10\n",
      " J IS 11\n",
      "NOT PRIME IS 33 divided by 11\n",
      " J IS 12\n",
      " J IS 13\n",
      " J IS 14\n",
      " J IS 15\n",
      " J IS 16\n",
      " J IS 17\n",
      " J IS 18\n",
      " J IS 19\n",
      " J IS 20\n",
      " J IS 21\n",
      " J IS 22\n",
      " J IS 23\n",
      " J IS 24\n",
      " J IS 25\n",
      " J IS 26\n",
      " J IS 27\n",
      " J IS 28\n",
      " J IS 29\n",
      " J IS 30\n",
      " J IS 31\n",
      " J IS 32\n",
      "i value 34\n",
      " J IS 2\n",
      "NOT PRIME IS 34 divided by 2\n",
      " J IS 3\n",
      " J IS 4\n",
      " J IS 5\n",
      " J IS 6\n",
      " J IS 7\n",
      " J IS 8\n",
      " J IS 9\n",
      " J IS 10\n",
      " J IS 11\n",
      " J IS 12\n",
      " J IS 13\n",
      " J IS 14\n",
      " J IS 15\n",
      " J IS 16\n",
      " J IS 17\n",
      "NOT PRIME IS 34 divided by 17\n",
      " J IS 18\n",
      " J IS 19\n",
      " J IS 20\n",
      " J IS 21\n",
      " J IS 22\n",
      " J IS 23\n",
      " J IS 24\n",
      " J IS 25\n",
      " J IS 26\n",
      " J IS 27\n",
      " J IS 28\n",
      " J IS 29\n",
      " J IS 30\n",
      " J IS 31\n",
      " J IS 32\n",
      " J IS 33\n",
      "i value 35\n",
      " J IS 2\n",
      " J IS 3\n",
      " J IS 4\n",
      " J IS 5\n",
      "NOT PRIME IS 35 divided by 5\n",
      " J IS 6\n",
      " J IS 7\n",
      "NOT PRIME IS 35 divided by 7\n",
      " J IS 8\n",
      " J IS 9\n",
      " J IS 10\n",
      " J IS 11\n",
      " J IS 12\n",
      " J IS 13\n",
      " J IS 14\n",
      " J IS 15\n",
      " J IS 16\n",
      " J IS 17\n",
      " J IS 18\n",
      " J IS 19\n",
      " J IS 20\n",
      " J IS 21\n",
      " J IS 22\n",
      " J IS 23\n",
      " J IS 24\n",
      " J IS 25\n",
      " J IS 26\n",
      " J IS 27\n",
      " J IS 28\n",
      " J IS 29\n",
      " J IS 30\n",
      " J IS 31\n",
      " J IS 32\n",
      " J IS 33\n",
      " J IS 34\n",
      "i value 36\n",
      " J IS 2\n",
      "NOT PRIME IS 36 divided by 2\n",
      " J IS 3\n",
      "NOT PRIME IS 36 divided by 3\n",
      " J IS 4\n",
      "NOT PRIME IS 36 divided by 4\n",
      " J IS 5\n",
      " J IS 6\n",
      "NOT PRIME IS 36 divided by 6\n",
      " J IS 7\n",
      " J IS 8\n",
      " J IS 9\n",
      "NOT PRIME IS 36 divided by 9\n",
      " J IS 10\n",
      " J IS 11\n",
      " J IS 12\n",
      "NOT PRIME IS 36 divided by 12\n",
      " J IS 13\n",
      " J IS 14\n",
      " J IS 15\n",
      " J IS 16\n",
      " J IS 17\n",
      " J IS 18\n",
      "NOT PRIME IS 36 divided by 18\n",
      " J IS 19\n",
      " J IS 20\n",
      " J IS 21\n",
      " J IS 22\n",
      " J IS 23\n",
      " J IS 24\n",
      " J IS 25\n",
      " J IS 26\n",
      " J IS 27\n",
      " J IS 28\n",
      " J IS 29\n",
      " J IS 30\n",
      " J IS 31\n",
      " J IS 32\n",
      " J IS 33\n",
      " J IS 34\n",
      " J IS 35\n",
      "i value 37\n",
      " J IS 2\n",
      " J IS 3\n",
      " J IS 4\n",
      " J IS 5\n",
      " J IS 6\n",
      " J IS 7\n",
      " J IS 8\n",
      " J IS 9\n",
      " J IS 10\n",
      " J IS 11\n",
      " J IS 12\n",
      " J IS 13\n",
      " J IS 14\n",
      " J IS 15\n",
      " J IS 16\n",
      " J IS 17\n",
      " J IS 18\n",
      " J IS 19\n",
      " J IS 20\n",
      " J IS 21\n",
      " J IS 22\n",
      " J IS 23\n",
      " J IS 24\n",
      " J IS 25\n",
      " J IS 26\n",
      " J IS 27\n",
      " J IS 28\n",
      " J IS 29\n",
      " J IS 30\n",
      " J IS 31\n",
      " J IS 32\n",
      " J IS 33\n",
      " J IS 34\n",
      " J IS 35\n",
      " J IS 36\n",
      "PRIME IS 37\n",
      "i value 38\n",
      " J IS 2\n",
      "NOT PRIME IS 38 divided by 2\n",
      " J IS 3\n",
      " J IS 4\n",
      " J IS 5\n",
      " J IS 6\n",
      " J IS 7\n",
      " J IS 8\n",
      " J IS 9\n",
      " J IS 10\n",
      " J IS 11\n",
      " J IS 12\n",
      " J IS 13\n",
      " J IS 14\n",
      " J IS 15\n",
      " J IS 16\n",
      " J IS 17\n",
      " J IS 18\n",
      " J IS 19\n",
      "NOT PRIME IS 38 divided by 19\n",
      " J IS 20\n",
      " J IS 21\n",
      " J IS 22\n",
      " J IS 23\n",
      " J IS 24\n",
      " J IS 25\n",
      " J IS 26\n",
      " J IS 27\n",
      " J IS 28\n",
      " J IS 29\n",
      " J IS 30\n",
      " J IS 31\n",
      " J IS 32\n",
      " J IS 33\n",
      " J IS 34\n",
      " J IS 35\n",
      " J IS 36\n",
      " J IS 37\n",
      "i value 39\n",
      " J IS 2\n",
      " J IS 3\n",
      "NOT PRIME IS 39 divided by 3\n",
      " J IS 4\n",
      " J IS 5\n",
      " J IS 6\n",
      " J IS 7\n",
      " J IS 8\n",
      " J IS 9\n",
      " J IS 10\n",
      " J IS 11\n",
      " J IS 12\n",
      " J IS 13\n",
      "NOT PRIME IS 39 divided by 13\n",
      " J IS 14\n",
      " J IS 15\n",
      " J IS 16\n",
      " J IS 17\n",
      " J IS 18\n",
      " J IS 19\n",
      " J IS 20\n",
      " J IS 21\n",
      " J IS 22\n",
      " J IS 23\n",
      " J IS 24\n",
      " J IS 25\n",
      " J IS 26\n",
      " J IS 27\n",
      " J IS 28\n",
      " J IS 29\n",
      " J IS 30\n",
      " J IS 31\n",
      " J IS 32\n",
      " J IS 33\n",
      " J IS 34\n",
      " J IS 35\n",
      " J IS 36\n",
      " J IS 37\n",
      " J IS 38\n",
      "i value 40\n",
      " J IS 2\n",
      "NOT PRIME IS 40 divided by 2\n",
      " J IS 3\n",
      " J IS 4\n",
      "NOT PRIME IS 40 divided by 4\n",
      " J IS 5\n",
      "NOT PRIME IS 40 divided by 5\n",
      " J IS 6\n",
      " J IS 7\n",
      " J IS 8\n",
      "NOT PRIME IS 40 divided by 8\n",
      " J IS 9\n",
      " J IS 10\n",
      "NOT PRIME IS 40 divided by 10\n",
      " J IS 11\n",
      " J IS 12\n",
      " J IS 13\n",
      " J IS 14\n",
      " J IS 15\n",
      " J IS 16\n",
      " J IS 17\n",
      " J IS 18\n",
      " J IS 19\n",
      " J IS 20\n",
      "NOT PRIME IS 40 divided by 20\n",
      " J IS 21\n",
      " J IS 22\n",
      " J IS 23\n",
      " J IS 24\n",
      " J IS 25\n",
      " J IS 26\n",
      " J IS 27\n",
      " J IS 28\n",
      " J IS 29\n",
      " J IS 30\n",
      " J IS 31\n",
      " J IS 32\n",
      " J IS 33\n",
      " J IS 34\n",
      " J IS 35\n",
      " J IS 36\n",
      " J IS 37\n",
      " J IS 38\n",
      " J IS 39\n",
      "i value 41\n",
      " J IS 2\n",
      " J IS 3\n",
      " J IS 4\n",
      " J IS 5\n",
      " J IS 6\n",
      " J IS 7\n",
      " J IS 8\n",
      " J IS 9\n",
      " J IS 10\n",
      " J IS 11\n",
      " J IS 12\n",
      " J IS 13\n",
      " J IS 14\n",
      " J IS 15\n",
      " J IS 16\n",
      " J IS 17\n",
      " J IS 18\n",
      " J IS 19\n",
      " J IS 20\n",
      " J IS 21\n",
      " J IS 22\n",
      " J IS 23\n",
      " J IS 24\n",
      " J IS 25\n",
      " J IS 26\n",
      " J IS 27\n",
      " J IS 28\n",
      " J IS 29\n",
      " J IS 30\n",
      " J IS 31\n",
      " J IS 32\n",
      " J IS 33\n",
      " J IS 34\n",
      " J IS 35\n",
      " J IS 36\n",
      " J IS 37\n",
      " J IS 38\n",
      " J IS 39\n",
      " J IS 40\n",
      "PRIME IS 41\n",
      "i value 42\n",
      " J IS 2\n",
      "NOT PRIME IS 42 divided by 2\n",
      " J IS 3\n",
      "NOT PRIME IS 42 divided by 3\n",
      " J IS 4\n",
      " J IS 5\n",
      " J IS 6\n",
      "NOT PRIME IS 42 divided by 6\n",
      " J IS 7\n",
      "NOT PRIME IS 42 divided by 7\n",
      " J IS 8\n",
      " J IS 9\n",
      " J IS 10\n",
      " J IS 11\n",
      " J IS 12\n",
      " J IS 13\n",
      " J IS 14\n",
      "NOT PRIME IS 42 divided by 14\n",
      " J IS 15\n",
      " J IS 16\n",
      " J IS 17\n",
      " J IS 18\n",
      " J IS 19\n",
      " J IS 20\n",
      " J IS 21\n",
      "NOT PRIME IS 42 divided by 21\n",
      " J IS 22\n",
      " J IS 23\n",
      " J IS 24\n",
      " J IS 25\n",
      " J IS 26\n",
      " J IS 27\n",
      " J IS 28\n",
      " J IS 29\n",
      " J IS 30\n",
      " J IS 31\n",
      " J IS 32\n",
      " J IS 33\n",
      " J IS 34\n",
      " J IS 35\n",
      " J IS 36\n",
      " J IS 37\n",
      " J IS 38\n",
      " J IS 39\n",
      " J IS 40\n",
      " J IS 41\n",
      "i value 43\n",
      " J IS 2\n",
      " J IS 3\n",
      " J IS 4\n",
      " J IS 5\n",
      " J IS 6\n",
      " J IS 7\n",
      " J IS 8\n",
      " J IS 9\n",
      " J IS 10\n",
      " J IS 11\n",
      " J IS 12\n",
      " J IS 13\n",
      " J IS 14\n",
      " J IS 15\n",
      " J IS 16\n",
      " J IS 17\n",
      " J IS 18\n",
      " J IS 19\n",
      " J IS 20\n",
      " J IS 21\n",
      " J IS 22\n",
      " J IS 23\n",
      " J IS 24\n",
      " J IS 25\n",
      " J IS 26\n",
      " J IS 27\n",
      " J IS 28\n",
      " J IS 29\n",
      " J IS 30\n",
      " J IS 31\n",
      " J IS 32\n",
      " J IS 33\n",
      " J IS 34\n",
      " J IS 35\n",
      " J IS 36\n",
      " J IS 37\n",
      " J IS 38\n",
      " J IS 39\n",
      " J IS 40\n",
      " J IS 41\n",
      " J IS 42\n",
      "PRIME IS 43\n",
      "i value 44\n",
      " J IS 2\n",
      "NOT PRIME IS 44 divided by 2\n",
      " J IS 3\n",
      " J IS 4\n",
      "NOT PRIME IS 44 divided by 4\n",
      " J IS 5\n",
      " J IS 6\n",
      " J IS 7\n",
      " J IS 8\n",
      " J IS 9\n",
      " J IS 10\n",
      " J IS 11\n",
      "NOT PRIME IS 44 divided by 11\n",
      " J IS 12\n",
      " J IS 13\n",
      " J IS 14\n",
      " J IS 15\n",
      " J IS 16\n",
      " J IS 17\n",
      " J IS 18\n",
      " J IS 19\n",
      " J IS 20\n",
      " J IS 21\n",
      " J IS 22\n",
      "NOT PRIME IS 44 divided by 22\n",
      " J IS 23\n",
      " J IS 24\n",
      " J IS 25\n",
      " J IS 26\n",
      " J IS 27\n",
      " J IS 28\n",
      " J IS 29\n",
      " J IS 30\n",
      " J IS 31\n",
      " J IS 32\n",
      " J IS 33\n",
      " J IS 34\n",
      " J IS 35\n",
      " J IS 36\n",
      " J IS 37\n",
      " J IS 38\n",
      " J IS 39\n",
      " J IS 40\n",
      " J IS 41\n",
      " J IS 42\n",
      " J IS 43\n",
      "i value 45\n",
      " J IS 2\n",
      " J IS 3\n",
      "NOT PRIME IS 45 divided by 3\n",
      " J IS 4\n",
      " J IS 5\n",
      "NOT PRIME IS 45 divided by 5\n",
      " J IS 6\n",
      " J IS 7\n",
      " J IS 8\n",
      " J IS 9\n",
      "NOT PRIME IS 45 divided by 9\n",
      " J IS 10\n",
      " J IS 11\n",
      " J IS 12\n",
      " J IS 13\n",
      " J IS 14\n",
      " J IS 15\n",
      "NOT PRIME IS 45 divided by 15\n",
      " J IS 16\n",
      " J IS 17\n",
      " J IS 18\n",
      " J IS 19\n",
      " J IS 20\n",
      " J IS 21\n",
      " J IS 22\n",
      " J IS 23\n",
      " J IS 24\n",
      " J IS 25\n",
      " J IS 26\n",
      " J IS 27\n",
      " J IS 28\n",
      " J IS 29\n",
      " J IS 30\n",
      " J IS 31\n",
      " J IS 32\n",
      " J IS 33\n",
      " J IS 34\n",
      " J IS 35\n",
      " J IS 36\n",
      " J IS 37\n",
      " J IS 38\n",
      " J IS 39\n",
      " J IS 40\n",
      " J IS 41\n",
      " J IS 42\n",
      " J IS 43\n",
      " J IS 44\n",
      "i value 46\n",
      " J IS 2\n",
      "NOT PRIME IS 46 divided by 2\n",
      " J IS 3\n",
      " J IS 4\n",
      " J IS 5\n",
      " J IS 6\n",
      " J IS 7\n",
      " J IS 8\n",
      " J IS 9\n",
      " J IS 10\n",
      " J IS 11\n",
      " J IS 12\n",
      " J IS 13\n",
      " J IS 14\n",
      " J IS 15\n",
      " J IS 16\n",
      " J IS 17\n",
      " J IS 18\n",
      " J IS 19\n",
      " J IS 20\n",
      " J IS 21\n",
      " J IS 22\n",
      " J IS 23\n",
      "NOT PRIME IS 46 divided by 23\n",
      " J IS 24\n",
      " J IS 25\n",
      " J IS 26\n",
      " J IS 27\n",
      " J IS 28\n",
      " J IS 29\n",
      " J IS 30\n",
      " J IS 31\n",
      " J IS 32\n",
      " J IS 33\n",
      " J IS 34\n",
      " J IS 35\n",
      " J IS 36\n",
      " J IS 37\n",
      " J IS 38\n",
      " J IS 39\n",
      " J IS 40\n",
      " J IS 41\n",
      " J IS 42\n",
      " J IS 43\n",
      " J IS 44\n",
      " J IS 45\n",
      "i value 47\n",
      " J IS 2\n",
      " J IS 3\n",
      " J IS 4\n",
      " J IS 5\n",
      " J IS 6\n",
      " J IS 7\n",
      " J IS 8\n",
      " J IS 9\n",
      " J IS 10\n",
      " J IS 11\n",
      " J IS 12\n",
      " J IS 13\n",
      " J IS 14\n",
      " J IS 15\n",
      " J IS 16\n",
      " J IS 17\n",
      " J IS 18\n",
      " J IS 19\n",
      " J IS 20\n",
      " J IS 21\n",
      " J IS 22\n",
      " J IS 23\n",
      " J IS 24\n",
      " J IS 25\n",
      " J IS 26\n",
      " J IS 27\n",
      " J IS 28\n",
      " J IS 29\n",
      " J IS 30\n",
      " J IS 31\n",
      " J IS 32\n",
      " J IS 33\n",
      " J IS 34\n",
      " J IS 35\n",
      " J IS 36\n",
      " J IS 37\n",
      " J IS 38\n",
      " J IS 39\n",
      " J IS 40\n",
      " J IS 41\n",
      " J IS 42\n",
      " J IS 43\n",
      " J IS 44\n",
      " J IS 45\n",
      " J IS 46\n",
      "PRIME IS 47\n",
      "i value 48\n",
      " J IS 2\n",
      "NOT PRIME IS 48 divided by 2\n",
      " J IS 3\n",
      "NOT PRIME IS 48 divided by 3\n",
      " J IS 4\n",
      "NOT PRIME IS 48 divided by 4\n",
      " J IS 5\n",
      " J IS 6\n",
      "NOT PRIME IS 48 divided by 6\n",
      " J IS 7\n",
      " J IS 8\n",
      "NOT PRIME IS 48 divided by 8\n",
      " J IS 9\n",
      " J IS 10\n",
      " J IS 11\n",
      " J IS 12\n",
      "NOT PRIME IS 48 divided by 12\n",
      " J IS 13\n",
      " J IS 14\n",
      " J IS 15\n",
      " J IS 16\n",
      "NOT PRIME IS 48 divided by 16\n",
      " J IS 17\n",
      " J IS 18\n",
      " J IS 19\n",
      " J IS 20\n",
      " J IS 21\n",
      " J IS 22\n",
      " J IS 23\n",
      " J IS 24\n",
      "NOT PRIME IS 48 divided by 24\n",
      " J IS 25\n",
      " J IS 26\n",
      " J IS 27\n",
      " J IS 28\n",
      " J IS 29\n",
      " J IS 30\n",
      " J IS 31\n",
      " J IS 32\n",
      " J IS 33\n",
      " J IS 34\n",
      " J IS 35\n",
      " J IS 36\n",
      " J IS 37\n",
      " J IS 38\n",
      " J IS 39\n",
      " J IS 40\n",
      " J IS 41\n",
      " J IS 42\n",
      " J IS 43\n",
      " J IS 44\n",
      " J IS 45\n",
      " J IS 46\n",
      " J IS 47\n",
      "i value 49\n",
      " J IS 2\n",
      " J IS 3\n",
      " J IS 4\n",
      " J IS 5\n",
      " J IS 6\n",
      " J IS 7\n",
      "NOT PRIME IS 49 divided by 7\n",
      " J IS 8\n",
      " J IS 9\n",
      " J IS 10\n",
      " J IS 11\n",
      " J IS 12\n",
      " J IS 13\n",
      " J IS 14\n",
      " J IS 15\n",
      " J IS 16\n",
      " J IS 17\n",
      " J IS 18\n",
      " J IS 19\n",
      " J IS 20\n",
      " J IS 21\n",
      " J IS 22\n",
      " J IS 23\n",
      " J IS 24\n",
      " J IS 25\n",
      " J IS 26\n",
      " J IS 27\n",
      " J IS 28\n",
      " J IS 29\n",
      " J IS 30\n",
      " J IS 31\n",
      " J IS 32\n",
      " J IS 33\n",
      " J IS 34\n",
      " J IS 35\n",
      " J IS 36\n",
      " J IS 37\n",
      " J IS 38\n",
      " J IS 39\n",
      " J IS 40\n",
      " J IS 41\n",
      " J IS 42\n",
      " J IS 43\n",
      " J IS 44\n",
      " J IS 45\n",
      " J IS 46\n",
      " J IS 47\n",
      " J IS 48\n",
      "i value 50\n",
      " J IS 2\n",
      "NOT PRIME IS 50 divided by 2\n",
      " J IS 3\n",
      " J IS 4\n",
      " J IS 5\n",
      "NOT PRIME IS 50 divided by 5\n",
      " J IS 6\n",
      " J IS 7\n",
      " J IS 8\n",
      " J IS 9\n",
      " J IS 10\n",
      "NOT PRIME IS 50 divided by 10\n",
      " J IS 11\n",
      " J IS 12\n",
      " J IS 13\n",
      " J IS 14\n",
      " J IS 15\n",
      " J IS 16\n",
      " J IS 17\n",
      " J IS 18\n",
      " J IS 19\n",
      " J IS 20\n",
      " J IS 21\n",
      " J IS 22\n",
      " J IS 23\n",
      " J IS 24\n",
      " J IS 25\n",
      "NOT PRIME IS 50 divided by 25\n",
      " J IS 26\n",
      " J IS 27\n",
      " J IS 28\n",
      " J IS 29\n",
      " J IS 30\n",
      " J IS 31\n",
      " J IS 32\n",
      " J IS 33\n",
      " J IS 34\n",
      " J IS 35\n",
      " J IS 36\n",
      " J IS 37\n",
      " J IS 38\n",
      " J IS 39\n",
      " J IS 40\n",
      " J IS 41\n",
      " J IS 42\n",
      " J IS 43\n",
      " J IS 44\n",
      " J IS 45\n",
      " J IS 46\n",
      " J IS 47\n",
      " J IS 48\n",
      " J IS 49\n"
     ]
    }
   ],
   "source": [
    "# To display prime numbers within an interval\n",
    "\n",
    "# let interval be between 10 and 50, both are inclusive\n",
    "\n",
    "num1 = 10\n",
    "num2 = 50\n",
    "print(\"Prime numbers between {0} and {1} are:\".format(num1,num2))\n",
    "\n",
    "for i in range(num1, num2 +1):\n",
    "    print(\"i value {}\".format(i))\n",
    "    if i > 1:\n",
    "        isdivisible = False;\n",
    "        for j in range(2,i):\n",
    "            print(\" J IS {}\".format(j))\n",
    "            if i % j == 0:\n",
    "                isdivisible = True;\n",
    "                print(\"NOT PRIME IS {} divided by {}\".format(i,j))\n",
    "                \n",
    "        if not isdivisible:\n",
    "            print(\"PRIME IS {}\".format(i))\n",
    "        \n",
    "    "
   ]
  },
  {
   "cell_type": "code",
   "execution_count": 8,
   "metadata": {},
   "outputs": [],
   "source": [
    "# Break and Continue\n",
    "\n",
    "# can alter the flow of a control loop"
   ]
  },
  {
   "cell_type": "code",
   "execution_count": 61,
   "metadata": {},
   "outputs": [
    {
     "name": "stdout",
     "output_type": "stream",
     "text": [
      "1\n",
      "3\n",
      "5\n"
     ]
    }
   ],
   "source": [
    "# continue example\n",
    "\n",
    "lst = [1,2,3,4,5]\n",
    "\n",
    "for i in lst:\n",
    "    if i%2 != 0:\n",
    "        print(i)\n",
    "    \n"
   ]
  },
  {
   "cell_type": "code",
   "execution_count": 1,
   "metadata": {},
   "outputs": [
    {
     "name": "stdout",
     "output_type": "stream",
     "text": [
      "1\n",
      "3\n",
      "5\n"
     ]
    }
   ],
   "source": [
    "lst = [1,2,3,4,5]\n",
    "\n",
    "for i in lst:\n",
    "    if i%2 == 0:\n",
    "        continue\n",
    "    else:\n",
    "        print(i)\n",
    "    "
   ]
  },
  {
   "cell_type": "code",
   "execution_count": 13,
   "metadata": {},
   "outputs": [
    {
     "name": "stdout",
     "output_type": "stream",
     "text": [
      "1\n",
      "3\n",
      "5\n",
      "list end\n"
     ]
    }
   ],
   "source": [
    "lst = [1,2,3,4,5]\n",
    "\n",
    "for i in lst:\n",
    "    if i%2 == 0:\n",
    "        continue\n",
    "    print(i)\n",
    "    \n",
    "else:\n",
    "    print(\"list end\")\n"
   ]
  },
  {
   "cell_type": "code",
   "execution_count": 1,
   "metadata": {},
   "outputs": [
    {
     "data": {
      "text/plain": [
       "6"
      ]
     },
     "execution_count": 1,
     "metadata": {},
     "output_type": "execute_result"
    }
   ],
   "source": [
    "# Lists\n",
    "\n",
    "# empty list\n",
    "lst = []\n",
    "\n",
    "lst1 = [1,2,3,4,5,6]\n",
    "\n",
    "len(lst1)"
   ]
  },
  {
   "cell_type": "code",
   "execution_count": 2,
   "metadata": {},
   "outputs": [
    {
     "ename": "IndexError",
     "evalue": "list assignment index out of range",
     "output_type": "error",
     "traceback": [
      "\u001b[1;31m---------------------------------------------------------------------------\u001b[0m",
      "\u001b[1;31mIndexError\u001b[0m                                Traceback (most recent call last)",
      "\u001b[1;32m<ipython-input-2-33d5ecc3ee02>\u001b[0m in \u001b[0;36m<module>\u001b[1;34m()\u001b[0m\n\u001b[1;32m----> 1\u001b[1;33m \u001b[0mlst1\u001b[0m\u001b[1;33m[\u001b[0m\u001b[1;36m6\u001b[0m\u001b[1;33m]\u001b[0m \u001b[1;33m=\u001b[0m \u001b[1;36m7\u001b[0m\u001b[1;33m\u001b[0m\u001b[0m\n\u001b[0m\u001b[0;32m      2\u001b[0m \u001b[1;33m\u001b[0m\u001b[0m\n\u001b[0;32m      3\u001b[0m \u001b[0mlst1\u001b[0m\u001b[1;33m\u001b[0m\u001b[0m\n",
      "\u001b[1;31mIndexError\u001b[0m: list assignment index out of range"
     ]
    }
   ],
   "source": [
    "lst1[6] = 7\n",
    "\n",
    "lst1"
   ]
  },
  {
   "cell_type": "code",
   "execution_count": 3,
   "metadata": {},
   "outputs": [
    {
     "data": {
      "text/plain": [
       "[1, 2, 3, 4, 5, 6, 7]"
      ]
     },
     "execution_count": 3,
     "metadata": {},
     "output_type": "execute_result"
    }
   ],
   "source": [
    "# append list\n",
    "\n",
    "lst1.append(7)\n",
    "\n",
    "lst1"
   ]
  },
  {
   "cell_type": "code",
   "execution_count": 4,
   "metadata": {},
   "outputs": [
    {
     "ename": "TypeError",
     "evalue": "append() takes exactly one argument (3 given)",
     "output_type": "error",
     "traceback": [
      "\u001b[1;31m---------------------------------------------------------------------------\u001b[0m",
      "\u001b[1;31mTypeError\u001b[0m                                 Traceback (most recent call last)",
      "\u001b[1;32m<ipython-input-4-19c22c69cbe5>\u001b[0m in \u001b[0;36m<module>\u001b[1;34m()\u001b[0m\n\u001b[1;32m----> 1\u001b[1;33m \u001b[0mlst1\u001b[0m\u001b[1;33m.\u001b[0m\u001b[0mappend\u001b[0m\u001b[1;33m(\u001b[0m\u001b[1;36m8\u001b[0m\u001b[1;33m,\u001b[0m\u001b[1;36m9\u001b[0m\u001b[1;33m,\u001b[0m\u001b[1;36m10\u001b[0m\u001b[1;33m)\u001b[0m\u001b[1;33m\u001b[0m\u001b[0m\n\u001b[0m\u001b[0;32m      2\u001b[0m \u001b[1;33m\u001b[0m\u001b[0m\n\u001b[0;32m      3\u001b[0m \u001b[0mlst1\u001b[0m\u001b[1;33m\u001b[0m\u001b[0m\n",
      "\u001b[1;31mTypeError\u001b[0m: append() takes exactly one argument (3 given)"
     ]
    }
   ],
   "source": [
    "lst1.append(8,9,10)\n",
    "\n",
    "lst1"
   ]
  },
  {
   "cell_type": "code",
   "execution_count": 5,
   "metadata": {},
   "outputs": [
    {
     "data": {
      "text/plain": [
       "[1, 2, 3, 4, 5, 6, 7, [8, 9, 10]]"
      ]
     },
     "execution_count": 5,
     "metadata": {},
     "output_type": "execute_result"
    }
   ],
   "source": [
    "lst1.append([8,9,10])\n",
    "\n",
    "lst1"
   ]
  },
  {
   "cell_type": "code",
   "execution_count": 10,
   "metadata": {},
   "outputs": [],
   "source": [
    "#insert\n",
    "\n",
    "lst1 = [1,2,3,4,5,6]\n",
    "\n",
    "lst1.insert(6,8)"
   ]
  },
  {
   "cell_type": "code",
   "execution_count": 11,
   "metadata": {},
   "outputs": [
    {
     "data": {
      "text/plain": [
       "[1, 2, 3, 4, 5, 6, 8]"
      ]
     },
     "execution_count": 11,
     "metadata": {},
     "output_type": "execute_result"
    }
   ],
   "source": [
    "lst1"
   ]
  },
  {
   "cell_type": "code",
   "execution_count": 12,
   "metadata": {},
   "outputs": [
    {
     "name": "stdout",
     "output_type": "stream",
     "text": [
      "[1, 2, 3, 4, 5, 6, 7, 8, 9]\n"
     ]
    }
   ],
   "source": [
    "lst1 = [1,2,3,4,5,6]\n",
    "\n",
    "lst2 = [7,8,9]\n",
    "\n",
    "for i in lst2:\n",
    "    lst1.append(i)\n",
    "    \n",
    "print(lst1)"
   ]
  },
  {
   "cell_type": "code",
   "execution_count": 13,
   "metadata": {},
   "outputs": [
    {
     "data": {
      "text/plain": [
       "[1, 2, 3, 4, 5, 6, 8, 9]"
      ]
     },
     "execution_count": 13,
     "metadata": {},
     "output_type": "execute_result"
    }
   ],
   "source": [
    "# remove\n",
    "lst1.remove(7)\n",
    "\n",
    "lst1"
   ]
  },
  {
   "cell_type": "code",
   "execution_count": 14,
   "metadata": {},
   "outputs": [
    {
     "ename": "TypeError",
     "evalue": "remove() takes exactly one argument (2 given)",
     "output_type": "error",
     "traceback": [
      "\u001b[1;31m---------------------------------------------------------------------------\u001b[0m",
      "\u001b[1;31mTypeError\u001b[0m                                 Traceback (most recent call last)",
      "\u001b[1;32m<ipython-input-14-84f426f6751d>\u001b[0m in \u001b[0;36m<module>\u001b[1;34m()\u001b[0m\n\u001b[1;32m----> 1\u001b[1;33m \u001b[0mlst1\u001b[0m\u001b[1;33m.\u001b[0m\u001b[0mremove\u001b[0m\u001b[1;33m(\u001b[0m\u001b[1;36m8\u001b[0m\u001b[1;33m,\u001b[0m\u001b[1;36m9\u001b[0m\u001b[1;33m)\u001b[0m\u001b[1;33m\u001b[0m\u001b[0m\n\u001b[0m\u001b[0;32m      2\u001b[0m \u001b[1;33m\u001b[0m\u001b[0m\n\u001b[0;32m      3\u001b[0m \u001b[0mlst1\u001b[0m\u001b[1;33m\u001b[0m\u001b[0m\n",
      "\u001b[1;31mTypeError\u001b[0m: remove() takes exactly one argument (2 given)"
     ]
    }
   ],
   "source": [
    "lst1.remove(8,9)\n",
    "\n",
    "lst1"
   ]
  },
  {
   "cell_type": "code",
   "execution_count": 15,
   "metadata": {},
   "outputs": [],
   "source": [
    "\n",
    "lst1 = [1,2,4,3,2,5]\n",
    "\n",
    "lst1.remove(2)"
   ]
  },
  {
   "cell_type": "code",
   "execution_count": 16,
   "metadata": {},
   "outputs": [
    {
     "data": {
      "text/plain": [
       "[1, 4, 3, 2, 5]"
      ]
     },
     "execution_count": 16,
     "metadata": {},
     "output_type": "execute_result"
    }
   ],
   "source": [
    "lst1"
   ]
  },
  {
   "cell_type": "code",
   "execution_count": 28,
   "metadata": {},
   "outputs": [
    {
     "data": {
      "text/plain": [
       "[1, 2, 3, 4, 5, 6, 7, 8, 9]"
      ]
     },
     "execution_count": 28,
     "metadata": {},
     "output_type": "execute_result"
    }
   ],
   "source": [
    "#extend\n",
    "lst1 =[1,2,3,4,5,6]\n",
    "lst2 =[7,8,9]\n",
    "\n",
    "lst1.extend(lst2)\n",
    "\n",
    "lst1"
   ]
  },
  {
   "cell_type": "code",
   "execution_count": 17,
   "metadata": {},
   "outputs": [
    {
     "name": "stdout",
     "output_type": "stream",
     "text": [
      "['one', 'three', 'four', 'five']\n"
     ]
    }
   ],
   "source": [
    "# Delete\n",
    "\n",
    "lst = ['one', 'two','three','four','five']\n",
    "\n",
    "del lst[1]\n",
    "\n",
    "print(lst)"
   ]
  },
  {
   "cell_type": "code",
   "execution_count": 18,
   "metadata": {},
   "outputs": [
    {
     "name": "stdout",
     "output_type": "stream",
     "text": [
      "four\n",
      "['one', 'three', 'five']\n"
     ]
    }
   ],
   "source": [
    "# pop\n",
    "\n",
    "a = lst.pop(2)\n",
    "print(a)\n",
    "print(lst)"
   ]
  },
  {
   "cell_type": "code",
   "execution_count": 19,
   "metadata": {},
   "outputs": [
    {
     "name": "stdout",
     "output_type": "stream",
     "text": [
      "['one', 'three']\n"
     ]
    }
   ],
   "source": [
    "lst.pop(2)\n",
    "\n",
    "print(lst)"
   ]
  },
  {
   "cell_type": "code",
   "execution_count": 8,
   "metadata": {},
   "outputs": [
    {
     "name": "stdout",
     "output_type": "stream",
     "text": [
      "['five', 'four', 'three', 'two', 'one']\n"
     ]
    }
   ],
   "source": [
    "# reverse\n",
    "\n",
    "lst = ['one', 'two','three','four','five']\n",
    "\n",
    "lst.reverse()\n",
    "\n",
    "print(lst)"
   ]
  },
  {
   "cell_type": "code",
   "execution_count": 20,
   "metadata": {},
   "outputs": [
    {
     "data": {
      "text/plain": [
       "'one'"
      ]
     },
     "execution_count": 20,
     "metadata": {},
     "output_type": "execute_result"
    }
   ],
   "source": [
    "lst[0]"
   ]
  },
  {
   "cell_type": "code",
   "execution_count": 21,
   "metadata": {},
   "outputs": [
    {
     "name": "stdout",
     "output_type": "stream",
     "text": [
      "[0, 1, 2, 3, 5, 6, 8, 8]\n"
     ]
    },
    {
     "data": {
      "text/plain": [
       "[3, 6, 2, 8, 5, 8, 0, 1]"
      ]
     },
     "execution_count": 21,
     "metadata": {},
     "output_type": "execute_result"
    }
   ],
   "source": [
    "# sorted\n",
    "lst2 = [3,6,2,8,5,8,0,1]\n",
    "\n",
    "lst3 = sorted(lst2)\n",
    "\n",
    "print(lst3)\n",
    "lst2"
   ]
  },
  {
   "cell_type": "code",
   "execution_count": 37,
   "metadata": {},
   "outputs": [
    {
     "name": "stdout",
     "output_type": "stream",
     "text": [
      "[0, 1, 2, 3, 5, 6, 8, 8]\n"
     ]
    }
   ],
   "source": [
    "lst4 = sorted(lst2)\n",
    "\n",
    "print(lst4)"
   ]
  },
  {
   "cell_type": "code",
   "execution_count": 38,
   "metadata": {},
   "outputs": [],
   "source": [
    "lst4.reverse()"
   ]
  },
  {
   "cell_type": "code",
   "execution_count": 39,
   "metadata": {},
   "outputs": [
    {
     "data": {
      "text/plain": [
       "[8, 8, 6, 5, 3, 2, 1, 0]"
      ]
     },
     "execution_count": 39,
     "metadata": {},
     "output_type": "execute_result"
    }
   ],
   "source": [
    "lst4"
   ]
  },
  {
   "cell_type": "code",
   "execution_count": 40,
   "metadata": {},
   "outputs": [
    {
     "name": "stdout",
     "output_type": "stream",
     "text": [
      "[8, 8, 6, 5, 3, 2, 1, 0]\n"
     ]
    }
   ],
   "source": [
    "lst5 = sorted(lst2, reverse = True)\n",
    "\n",
    "print(lst5)"
   ]
  },
  {
   "cell_type": "code",
   "execution_count": 22,
   "metadata": {},
   "outputs": [
    {
     "name": "stdout",
     "output_type": "stream",
     "text": [
      "[0, 1, 2, 3, 5, 6, 8, 8]\n"
     ]
    }
   ],
   "source": [
    "# sort\n",
    "lst2.sort()\n",
    "print(lst2)"
   ]
  },
  {
   "cell_type": "code",
   "execution_count": 23,
   "metadata": {},
   "outputs": [
    {
     "name": "stdout",
     "output_type": "stream",
     "text": [
      "['one', ' two', ' three', ' four', ' five']\n"
     ]
    }
   ],
   "source": [
    "# split\n",
    "s = \"one, two, three, four, five\"\n",
    "\n",
    "slst = s.split(',')\n",
    "\n",
    "print(slst)"
   ]
  },
  {
   "cell_type": "code",
   "execution_count": 46,
   "metadata": {},
   "outputs": [
    {
     "data": {
      "text/plain": [
       "' four'"
      ]
     },
     "execution_count": 46,
     "metadata": {},
     "output_type": "execute_result"
    }
   ],
   "source": [
    "slst[-2]"
   ]
  },
  {
   "cell_type": "code",
   "execution_count": 47,
   "metadata": {},
   "outputs": [
    {
     "data": {
      "text/plain": [
       "[' two', ' three']"
      ]
     },
     "execution_count": 47,
     "metadata": {},
     "output_type": "execute_result"
    }
   ],
   "source": [
    "slst[1:3]"
   ]
  },
  {
   "cell_type": "code",
   "execution_count": 14,
   "metadata": {},
   "outputs": [
    {
     "data": {
      "text/plain": [
       "['one', ' three', ' five']"
      ]
     },
     "execution_count": 14,
     "metadata": {},
     "output_type": "execute_result"
    }
   ],
   "source": [
    "slst[0:5:2]"
   ]
  },
  {
   "cell_type": "code",
   "execution_count": 25,
   "metadata": {},
   "outputs": [
    {
     "name": "stdout",
     "output_type": "stream",
     "text": [
      "[1, 2, 3, 4, 5, 6, 7, 8, 9]\n"
     ]
    }
   ],
   "source": [
    "lst1 =[1,2,3,4,5,6]\n",
    "lst2 =[7,8,9]\n",
    "\n",
    "\n",
    "lst3 = lst1 +lst2\n",
    "\n",
    "print(lst3)"
   ]
  },
  {
   "cell_type": "code",
   "execution_count": 17,
   "metadata": {},
   "outputs": [
    {
     "name": "stdout",
     "output_type": "stream",
     "text": [
      "[2, 3, 4, 5, 6, 7]\n"
     ]
    }
   ],
   "source": [
    "lst1 =[1,2,3,4,5,6]\n",
    "\n",
    "lst2 = []\n",
    "\n",
    "for i in lst1:\n",
    "    i +=1\n",
    "    lst2.append(i)\n",
    "    \n",
    "print(lst2)"
   ]
  },
  {
   "cell_type": "code",
   "execution_count": 19,
   "metadata": {},
   "outputs": [
    {
     "data": {
      "text/plain": [
       "1"
      ]
     },
     "execution_count": 19,
     "metadata": {},
     "output_type": "execute_result"
    }
   ],
   "source": [
    "lst1.index(2)"
   ]
  },
  {
   "cell_type": "code",
   "execution_count": 20,
   "metadata": {},
   "outputs": [
    {
     "data": {
      "text/plain": [
       "3"
      ]
     },
     "execution_count": 20,
     "metadata": {},
     "output_type": "execute_result"
    }
   ],
   "source": [
    "num = [1,2,3,4,5,6,1,3,5,3,7]\n",
    "\n",
    "# frequency of 1 in lst\n",
    "\n",
    "num.count(3)\n"
   ]
  },
  {
   "cell_type": "code",
   "execution_count": 3,
   "metadata": {},
   "outputs": [
    {
     "name": "stdout",
     "output_type": "stream",
     "text": [
      "[0, 1, 4, 9, 16, 25, 36, 49, 64, 81, 100]\n"
     ]
    }
   ],
   "source": [
    "# list comprehension\n",
    "\n",
    "square=[]\n",
    "for i in range(11):\n",
    "    square.append(i**2)\n",
    "print(square)"
   ]
  },
  {
   "cell_type": "code",
   "execution_count": 34,
   "metadata": {},
   "outputs": [
    {
     "name": "stdout",
     "output_type": "stream",
     "text": [
      "[0, 1, 4, 9, 16, 25, 36, 49, 64, 81]\n"
     ]
    }
   ],
   "source": [
    "# list comprehension\n",
    "\n",
    "sqr = [ i**2 for i in range(10)]\n",
    "print(sqr)"
   ]
  },
  {
   "cell_type": "code",
   "execution_count": 22,
   "metadata": {},
   "outputs": [
    {
     "name": "stdout",
     "output_type": "stream",
     "text": [
      "[1, 2, 3, 4, 5]\n"
     ]
    }
   ],
   "source": [
    "lst = [-1,-2,-3,-4,-5]\n",
    "\n",
    "positive=[]\n",
    "for i in lst:\n",
    "    positive.append(i*-1)\n",
    "    \n",
    "print(positive)\n"
   ]
  },
  {
   "cell_type": "code",
   "execution_count": 23,
   "metadata": {},
   "outputs": [
    {
     "data": {
      "text/plain": [
       "[1, 2, 3, 4, 5]"
      ]
     },
     "execution_count": 23,
     "metadata": {},
     "output_type": "execute_result"
    }
   ],
   "source": [
    "positive=[abs(i) for i in lst]\n",
    "positive"
   ]
  },
  {
   "cell_type": "code",
   "execution_count": 35,
   "metadata": {},
   "outputs": [
    {
     "name": "stdout",
     "output_type": "stream",
     "text": [
      "[1, 5, 7, 6]\n"
     ]
    }
   ],
   "source": [
    "lst2 = [1,-3,5,7,-8,-2,6]\n",
    "\n",
    "\n",
    "lst3 = [i for i in lst2 if i >0]\n",
    "print(lst3)"
   ]
  },
  {
   "cell_type": "code",
   "execution_count": 24,
   "metadata": {},
   "outputs": [
    {
     "name": "stdout",
     "output_type": "stream",
     "text": [
      "range(0, 11)\n",
      "[(0, 0), (1, 1), (2, 4), (3, 9), (4, 16), (5, 25), (6, 36), (7, 49), (8, 64), (9, 81), (10, 100)]\n"
     ]
    }
   ],
   "source": [
    "list1 = range(11)\n",
    "\n",
    "list2=[]\n",
    "\n",
    "for i in list1:\n",
    "    list2.append((i,i**2))\n",
    "\n",
    "print(list1)\n",
    "print(list2)"
   ]
  },
  {
   "cell_type": "code",
   "execution_count": 36,
   "metadata": {},
   "outputs": [
    {
     "name": "stdout",
     "output_type": "stream",
     "text": [
      "[(0, 0), (1, 1), (2, 4), (3, 9), (4, 16), (5, 25), (6, 36), (7, 49), (8, 64), (9, 81), (10, 100)]\n"
     ]
    }
   ],
   "source": [
    "list3 = [(i,i**2) for i in range(11)]\n",
    "\n",
    "print(list3)"
   ]
  },
  {
   "cell_type": "code",
   "execution_count": 28,
   "metadata": {},
   "outputs": [
    {
     "data": {
      "text/plain": [
       "[0, 1, 2, 3, 4, 5, 6, 7, 8, 9, 10]"
      ]
     },
     "execution_count": 28,
     "metadata": {},
     "output_type": "execute_result"
    }
   ],
   "source": [
    "list3 = [i for i in range(11)]\n",
    "list3"
   ]
  },
  {
   "cell_type": "code",
   "execution_count": 69,
   "metadata": {},
   "outputs": [
    {
     "name": "stdout",
     "output_type": "stream",
     "text": [
      "[(0, 0), (1, 1), (2, 4), (3, 9), (4, 16), (5, 25), (6, 36), (7, 49), (8, 64), (9, 81), (10, 100)]\n"
     ]
    }
   ],
   "source": [
    "list3 = [(i,i**2) for i in list1]\n",
    "print(list3)"
   ]
  },
  {
   "cell_type": "code",
   "execution_count": 30,
   "metadata": {},
   "outputs": [
    {
     "name": "stdout",
     "output_type": "stream",
     "text": [
      "DataDataDataData\n"
     ]
    }
   ],
   "source": [
    "#tuples \n",
    "\n",
    "t = ('Data'*4)\n",
    "\n",
    "print(t)"
   ]
  },
  {
   "cell_type": "code",
   "execution_count": 31,
   "metadata": {},
   "outputs": [
    {
     "data": {
      "text/plain": [
       "16"
      ]
     },
     "execution_count": 31,
     "metadata": {},
     "output_type": "execute_result"
    }
   ],
   "source": [
    "len(t)"
   ]
  },
  {
   "cell_type": "code",
   "execution_count": 32,
   "metadata": {},
   "outputs": [
    {
     "data": {
      "text/plain": [
       "'a'"
      ]
     },
     "execution_count": 32,
     "metadata": {},
     "output_type": "execute_result"
    }
   ],
   "source": [
    "t[5]"
   ]
  },
  {
   "cell_type": "code",
   "execution_count": 33,
   "metadata": {},
   "outputs": [
    {
     "data": {
      "text/plain": [
       "str"
      ]
     },
     "execution_count": 33,
     "metadata": {},
     "output_type": "execute_result"
    }
   ],
   "source": [
    "type(t)"
   ]
  },
  {
   "cell_type": "code",
   "execution_count": 37,
   "metadata": {},
   "outputs": [
    {
     "name": "stdout",
     "output_type": "stream",
     "text": [
      "('Data', 'Data', 'Data', 'Data')\n"
     ]
    }
   ],
   "source": [
    "t = (('Data',) *4)\n",
    "\n",
    "print(t)"
   ]
  },
  {
   "cell_type": "code",
   "execution_count": 38,
   "metadata": {},
   "outputs": [],
   "source": [
    "del t"
   ]
  },
  {
   "cell_type": "code",
   "execution_count": 39,
   "metadata": {},
   "outputs": [
    {
     "ename": "NameError",
     "evalue": "name 't' is not defined",
     "output_type": "error",
     "traceback": [
      "\u001b[1;31m---------------------------------------------------------------------------\u001b[0m",
      "\u001b[1;31mNameError\u001b[0m                                 Traceback (most recent call last)",
      "\u001b[1;32m<ipython-input-39-34fc7a11cb38>\u001b[0m in \u001b[0;36m<module>\u001b[1;34m()\u001b[0m\n\u001b[1;32m----> 1\u001b[1;33m \u001b[0mt\u001b[0m\u001b[1;33m\u001b[0m\u001b[0m\n\u001b[0m",
      "\u001b[1;31mNameError\u001b[0m: name 't' is not defined"
     ]
    }
   ],
   "source": [
    "t"
   ]
  },
  {
   "cell_type": "code",
   "execution_count": 40,
   "metadata": {},
   "outputs": [
    {
     "data": {
      "text/plain": [
       "2"
      ]
     },
     "execution_count": 40,
     "metadata": {},
     "output_type": "execute_result"
    }
   ],
   "source": [
    "t = (1,2,3,4,58,9,1,2,4,7,5,4)\n",
    "\n",
    "t.count(1)"
   ]
  },
  {
   "cell_type": "code",
   "execution_count": 6,
   "metadata": {},
   "outputs": [
    {
     "data": {
      "text/plain": [
       "4"
      ]
     },
     "execution_count": 6,
     "metadata": {},
     "output_type": "execute_result"
    }
   ],
   "source": [
    "t.index(58)"
   ]
  },
  {
   "cell_type": "code",
   "execution_count": 7,
   "metadata": {},
   "outputs": [
    {
     "name": "stdout",
     "output_type": "stream",
     "text": [
      "True\n"
     ]
    }
   ],
   "source": [
    "print(1 in t)"
   ]
  },
  {
   "cell_type": "code",
   "execution_count": 8,
   "metadata": {},
   "outputs": [
    {
     "data": {
      "text/plain": [
       "True"
      ]
     },
     "execution_count": 8,
     "metadata": {},
     "output_type": "execute_result"
    }
   ],
   "source": [
    "1 in t"
   ]
  },
  {
   "cell_type": "code",
   "execution_count": 9,
   "metadata": {},
   "outputs": [
    {
     "data": {
      "text/plain": [
       "False"
      ]
     },
     "execution_count": 9,
     "metadata": {},
     "output_type": "execute_result"
    }
   ],
   "source": [
    "10 in t"
   ]
  },
  {
   "cell_type": "code",
   "execution_count": 10,
   "metadata": {},
   "outputs": [
    {
     "data": {
      "text/plain": [
       "58"
      ]
     },
     "execution_count": 10,
     "metadata": {},
     "output_type": "execute_result"
    }
   ],
   "source": [
    "max(t)"
   ]
  },
  {
   "cell_type": "code",
   "execution_count": 11,
   "metadata": {},
   "outputs": [
    {
     "data": {
      "text/plain": [
       "1"
      ]
     },
     "execution_count": 11,
     "metadata": {},
     "output_type": "execute_result"
    }
   ],
   "source": [
    "min(t)"
   ]
  },
  {
   "cell_type": "code",
   "execution_count": 12,
   "metadata": {},
   "outputs": [
    {
     "data": {
      "text/plain": [
       "100"
      ]
     },
     "execution_count": 12,
     "metadata": {},
     "output_type": "execute_result"
    }
   ],
   "source": [
    "sum(t)"
   ]
  },
  {
   "cell_type": "code",
   "execution_count": 41,
   "metadata": {},
   "outputs": [
    {
     "name": "stdout",
     "output_type": "stream",
     "text": [
      "set()\n"
     ]
    }
   ],
   "source": [
    "#Sets\n",
    "\n",
    "S = set()\n",
    "\n",
    "print(S)"
   ]
  },
  {
   "cell_type": "code",
   "execution_count": 42,
   "metadata": {},
   "outputs": [
    {
     "name": "stdout",
     "output_type": "stream",
     "text": [
      "{1, 2, 3}\n"
     ]
    }
   ],
   "source": [
    "s = {1,3}\n",
    "\n",
    "s.add(2)\n",
    "\n",
    "print(s)"
   ]
  },
  {
   "cell_type": "code",
   "execution_count": 43,
   "metadata": {},
   "outputs": [
    {
     "ename": "TypeError",
     "evalue": "add() takes exactly one argument (3 given)",
     "output_type": "error",
     "traceback": [
      "\u001b[1;31m---------------------------------------------------------------------------\u001b[0m",
      "\u001b[1;31mTypeError\u001b[0m                                 Traceback (most recent call last)",
      "\u001b[1;32m<ipython-input-43-7b1bf0a430fd>\u001b[0m in \u001b[0;36m<module>\u001b[1;34m()\u001b[0m\n\u001b[1;32m----> 1\u001b[1;33m \u001b[0ms\u001b[0m\u001b[1;33m.\u001b[0m\u001b[0madd\u001b[0m\u001b[1;33m(\u001b[0m\u001b[1;36m5\u001b[0m\u001b[1;33m,\u001b[0m\u001b[1;36m6\u001b[0m\u001b[1;33m,\u001b[0m\u001b[1;36m7\u001b[0m\u001b[1;33m)\u001b[0m\u001b[1;33m\u001b[0m\u001b[0m\n\u001b[0m\u001b[0;32m      2\u001b[0m \u001b[1;33m\u001b[0m\u001b[0m\n\u001b[0;32m      3\u001b[0m \u001b[0mprint\u001b[0m\u001b[1;33m(\u001b[0m\u001b[0ms\u001b[0m\u001b[1;33m)\u001b[0m\u001b[1;33m\u001b[0m\u001b[0m\n",
      "\u001b[1;31mTypeError\u001b[0m: add() takes exactly one argument (3 given)"
     ]
    }
   ],
   "source": [
    "s.add(5,6,7)\n",
    "\n",
    "print(s)"
   ]
  },
  {
   "cell_type": "code",
   "execution_count": 44,
   "metadata": {},
   "outputs": [
    {
     "name": "stdout",
     "output_type": "stream",
     "text": [
      "{1, 2, 3, 5, 6, 7}\n"
     ]
    }
   ],
   "source": [
    "s.update([5,6,7])\n",
    "print(s)"
   ]
  },
  {
   "cell_type": "code",
   "execution_count": 45,
   "metadata": {},
   "outputs": [
    {
     "name": "stdout",
     "output_type": "stream",
     "text": [
      "{1, 2, 3, 5, 6, 7, 8, 9, 10, 11, 12}\n"
     ]
    }
   ],
   "source": [
    "s.update([8,9], {10,11,12})\n",
    "\n",
    "print(s)"
   ]
  },
  {
   "cell_type": "code",
   "execution_count": 46,
   "metadata": {},
   "outputs": [
    {
     "name": "stdout",
     "output_type": "stream",
     "text": [
      "{1, 2, 3, 5, 6, 7, 8, 9, 10, 11, 12, 14, 15, 16, 17}\n"
     ]
    }
   ],
   "source": [
    "a= [12,14]\n",
    "\n",
    "b = {15,16,17}\n",
    "\n",
    "s.update(a,b)\n",
    "\n",
    "print(s)"
   ]
  },
  {
   "cell_type": "code",
   "execution_count": 47,
   "metadata": {},
   "outputs": [
    {
     "name": "stdout",
     "output_type": "stream",
     "text": [
      "{1, 2, 3, 5, 6, 7, 8, 9, 10, 11, 12, 14, 15, 16}\n"
     ]
    }
   ],
   "source": [
    "#delete element from set\n",
    "# discard function\n",
    "\n",
    "s.discard(17)\n",
    "\n",
    "print(s)\n"
   ]
  },
  {
   "cell_type": "code",
   "execution_count": 49,
   "metadata": {},
   "outputs": [
    {
     "name": "stdout",
     "output_type": "stream",
     "text": [
      "{3, 5, 6, 7, 8, 9, 10, 11, 12, 14, 15, 16}\n"
     ]
    }
   ],
   "source": [
    "s.pop()\n",
    "print(s)"
   ]
  },
  {
   "cell_type": "code",
   "execution_count": 50,
   "metadata": {},
   "outputs": [
    {
     "name": "stdout",
     "output_type": "stream",
     "text": [
      "{5, 6, 7, 8, 9, 10, 11, 12, 14, 15, 16}\n"
     ]
    }
   ],
   "source": [
    "s.pop()\n",
    "print(s)"
   ]
  },
  {
   "cell_type": "code",
   "execution_count": 51,
   "metadata": {},
   "outputs": [],
   "source": [
    "s.clear()"
   ]
  },
  {
   "cell_type": "code",
   "execution_count": 52,
   "metadata": {},
   "outputs": [
    {
     "data": {
      "text/plain": [
       "set()"
      ]
     },
     "execution_count": 52,
     "metadata": {},
     "output_type": "execute_result"
    }
   ],
   "source": [
    "s"
   ]
  },
  {
   "cell_type": "code",
   "execution_count": 54,
   "metadata": {},
   "outputs": [],
   "source": [
    "# Python Set operations\n",
    "\n",
    "s1 = {1,2,3,4,5}\n",
    "s2 = {3,4,5,6,7}"
   ]
  },
  {
   "cell_type": "code",
   "execution_count": 30,
   "metadata": {},
   "outputs": [
    {
     "name": "stdout",
     "output_type": "stream",
     "text": [
      "{1, 2, 3, 4, 5, 6, 7}\n"
     ]
    }
   ],
   "source": [
    "# Union of sets\n",
    "# using Bitwise OR(|)\n",
    "print(s1 | s2)"
   ]
  },
  {
   "cell_type": "code",
   "execution_count": 31,
   "metadata": {},
   "outputs": [
    {
     "name": "stdout",
     "output_type": "stream",
     "text": [
      "{1, 2, 3, 4, 5, 6, 7}\n"
     ]
    }
   ],
   "source": [
    "print(s1.union(s2))"
   ]
  },
  {
   "cell_type": "code",
   "execution_count": 32,
   "metadata": {},
   "outputs": [
    {
     "name": "stdout",
     "output_type": "stream",
     "text": [
      "{3, 4, 5}\n"
     ]
    }
   ],
   "source": [
    "# Intersection of sets\n",
    "# using Bitwise AND(&)\n",
    "print(s1 & s2)"
   ]
  },
  {
   "cell_type": "code",
   "execution_count": 33,
   "metadata": {},
   "outputs": [
    {
     "name": "stdout",
     "output_type": "stream",
     "text": [
      "{3, 4, 5}\n"
     ]
    }
   ],
   "source": [
    "print(s1.intersection(s2))"
   ]
  },
  {
   "cell_type": "code",
   "execution_count": 34,
   "metadata": {},
   "outputs": [
    {
     "name": "stdout",
     "output_type": "stream",
     "text": [
      "{1, 2}\n"
     ]
    }
   ],
   "source": [
    "# Set Difference\n",
    "\n",
    "print(s1-s2)"
   ]
  },
  {
   "cell_type": "code",
   "execution_count": 35,
   "metadata": {},
   "outputs": [
    {
     "name": "stdout",
     "output_type": "stream",
     "text": [
      "{6, 7}\n"
     ]
    }
   ],
   "source": [
    "print(s2-s1)"
   ]
  },
  {
   "cell_type": "code",
   "execution_count": 36,
   "metadata": {},
   "outputs": [
    {
     "name": "stdout",
     "output_type": "stream",
     "text": [
      "{1, 2}\n"
     ]
    }
   ],
   "source": [
    "print(s1.difference(s2))"
   ]
  },
  {
   "cell_type": "code",
   "execution_count": 55,
   "metadata": {},
   "outputs": [
    {
     "name": "stdout",
     "output_type": "stream",
     "text": [
      "{1, 2, 6, 7}\n"
     ]
    }
   ],
   "source": [
    "# symmetric Difference  (^)\n",
    "\n",
    "print(s1^s2)\n"
   ]
  },
  {
   "cell_type": "code",
   "execution_count": 56,
   "metadata": {},
   "outputs": [
    {
     "name": "stdout",
     "output_type": "stream",
     "text": [
      "{1, 2, 6, 7}\n"
     ]
    }
   ],
   "source": [
    "print(s1.symmetric_difference(s2))"
   ]
  },
  {
   "cell_type": "code",
   "execution_count": 57,
   "metadata": {},
   "outputs": [
    {
     "data": {
      "text/plain": [
       "True"
      ]
     },
     "execution_count": 57,
     "metadata": {},
     "output_type": "execute_result"
    }
   ],
   "source": [
    "# finding subsets suing 'issubset()' function\n",
    "s1 = {1,2,3,4,5}\n",
    "s3 = {1,2}\n",
    "\n",
    "s3.issubset(s1)\n"
   ]
  },
  {
   "cell_type": "code",
   "execution_count": 40,
   "metadata": {},
   "outputs": [],
   "source": [
    "s4 = frozenset()"
   ]
  },
  {
   "cell_type": "code",
   "execution_count": 41,
   "metadata": {},
   "outputs": [
    {
     "data": {
      "text/plain": [
       "frozenset()"
      ]
     },
     "execution_count": 41,
     "metadata": {},
     "output_type": "execute_result"
    }
   ],
   "source": [
    "s4"
   ]
  },
  {
   "cell_type": "code",
   "execution_count": 42,
   "metadata": {},
   "outputs": [
    {
     "data": {
      "text/plain": [
       "frozenset"
      ]
     },
     "execution_count": 42,
     "metadata": {},
     "output_type": "execute_result"
    }
   ],
   "source": [
    "type(s4)"
   ]
  },
  {
   "cell_type": "code",
   "execution_count": 58,
   "metadata": {},
   "outputs": [
    {
     "data": {
      "text/plain": [
       "{'name': 'Amit', 'age': 27, 'address': 'Pune'}"
      ]
     },
     "execution_count": 58,
     "metadata": {},
     "output_type": "execute_result"
    }
   ],
   "source": [
    "# dictonary\n",
    "\n",
    "dict = {'name':'Amit', 'age':27, 'address': 'Pune'}\n",
    "dict"
   ]
  },
  {
   "cell_type": "code",
   "execution_count": 59,
   "metadata": {},
   "outputs": [],
   "source": [
    "dict['name'] = 'Akshay'"
   ]
  },
  {
   "cell_type": "code",
   "execution_count": 60,
   "metadata": {},
   "outputs": [
    {
     "data": {
      "text/plain": [
       "{'name': 'Akshay', 'age': 27, 'address': 'Pune'}"
      ]
     },
     "execution_count": 60,
     "metadata": {},
     "output_type": "execute_result"
    }
   ],
   "source": [
    "dict"
   ]
  },
  {
   "cell_type": "code",
   "execution_count": 61,
   "metadata": {},
   "outputs": [],
   "source": [
    "dict['Degree'] = 'MBA'"
   ]
  },
  {
   "cell_type": "code",
   "execution_count": 62,
   "metadata": {},
   "outputs": [
    {
     "data": {
      "text/plain": [
       "{'name': 'Akshay', 'age': 27, 'address': 'Pune', 'Degree': 'MBA'}"
      ]
     },
     "execution_count": 62,
     "metadata": {},
     "output_type": "execute_result"
    }
   ],
   "source": [
    "dict"
   ]
  },
  {
   "cell_type": "code",
   "execution_count": 63,
   "metadata": {},
   "outputs": [
    {
     "data": {
      "text/plain": [
       "{'name': 'Akshay', 'age': 27, 'address': 'Pune'}"
      ]
     },
     "execution_count": 63,
     "metadata": {},
     "output_type": "execute_result"
    }
   ],
   "source": [
    "dict.pop('Degree')\n",
    "\n",
    "dict"
   ]
  },
  {
   "cell_type": "code",
   "execution_count": 64,
   "metadata": {},
   "outputs": [
    {
     "data": {
      "text/plain": [
       "{'name': 'Akshay', 'age': 27}"
      ]
     },
     "execution_count": 64,
     "metadata": {},
     "output_type": "execute_result"
    }
   ],
   "source": [
    "# for removing arbitary/ random key-value\n",
    "dict.popitem()\n",
    "\n",
    "dict"
   ]
  },
  {
   "cell_type": "code",
   "execution_count": 65,
   "metadata": {},
   "outputs": [
    {
     "data": {
      "text/plain": [
       "{'age': 27}"
      ]
     },
     "execution_count": 65,
     "metadata": {},
     "output_type": "execute_result"
    }
   ],
   "source": [
    "del dict['name']\n",
    "\n",
    "dict"
   ]
  },
  {
   "cell_type": "code",
   "execution_count": 66,
   "metadata": {},
   "outputs": [
    {
     "data": {
      "text/plain": [
       "{}"
      ]
     },
     "execution_count": 66,
     "metadata": {},
     "output_type": "execute_result"
    }
   ],
   "source": [
    "dict.clear()\n",
    "\n",
    "dict"
   ]
  },
  {
   "cell_type": "code",
   "execution_count": 54,
   "metadata": {},
   "outputs": [],
   "source": [
    "del dict"
   ]
  },
  {
   "cell_type": "code",
   "execution_count": 55,
   "metadata": {},
   "outputs": [
    {
     "data": {
      "text/plain": [
       "dict"
      ]
     },
     "execution_count": 55,
     "metadata": {},
     "output_type": "execute_result"
    }
   ],
   "source": [
    "dict"
   ]
  },
  {
   "cell_type": "code",
   "execution_count": 67,
   "metadata": {},
   "outputs": [
    {
     "name": "stdout",
     "output_type": "stream",
     "text": [
      "a 1\n",
      "b 4\n",
      "c 9\n"
     ]
    }
   ],
   "source": [
    "# loops in dictionary\n",
    "\n",
    "d = {'a':1, 'b':2, 'c':3}\n",
    "\n",
    "for i in d:\n",
    "    print(i,d[i]**2)"
   ]
  },
  {
   "cell_type": "code",
   "execution_count": 68,
   "metadata": {},
   "outputs": [
    {
     "name": "stdout",
     "output_type": "stream",
     "text": [
      "('a', 1)\n",
      "('b', 2)\n",
      "('c', 3)\n"
     ]
    }
   ],
   "source": [
    "for i in d.items():\n",
    "    print(i)"
   ]
  },
  {
   "cell_type": "code",
   "execution_count": 69,
   "metadata": {},
   "outputs": [
    {
     "data": {
      "text/plain": [
       "dict_items([('a', 1), ('b', 2), ('c', 3)])"
      ]
     },
     "execution_count": 69,
     "metadata": {},
     "output_type": "execute_result"
    }
   ],
   "source": [
    "d.items()"
   ]
  },
  {
   "cell_type": "code",
   "execution_count": 47,
   "metadata": {},
   "outputs": [
    {
     "data": {
      "text/plain": [
       "<generator object <genexpr> at 0x000001E4B0316AF0>"
      ]
     },
     "execution_count": 47,
     "metadata": {},
     "output_type": "execute_result"
    }
   ],
   "source": [
    "t = (i for i in range(10))\n",
    "t"
   ]
  },
  {
   "cell_type": "code",
   "execution_count": 48,
   "metadata": {},
   "outputs": [
    {
     "name": "stdout",
     "output_type": "stream",
     "text": [
      "<generator object <genexpr> at 0x000001E4B0316AF0>\n"
     ]
    }
   ],
   "source": [
    "print(t)"
   ]
  },
  {
   "cell_type": "code",
   "execution_count": 70,
   "metadata": {},
   "outputs": [
    {
     "name": "stdout",
     "output_type": "stream",
     "text": [
      "{'c': 3, 'd': 4}\n"
     ]
    }
   ],
   "source": [
    "# dictionary comprehensions\n",
    "\n",
    "#print only pairs where the value is greater than 2\n",
    "\n",
    "d = {'a':1, 'b':2, 'c':3, 'd': 4}\n",
    "\n",
    "new_d = { k:v for k,v in d.items() if v >2}\n",
    "\n",
    "print(new_d)\n"
   ]
  },
  {
   "cell_type": "code",
   "execution_count": 72,
   "metadata": {},
   "outputs": [
    {
     "name": "stdout",
     "output_type": "stream",
     "text": [
      "The input is not palindrome\n"
     ]
    }
   ],
   "source": [
    "#Assignment\n",
    "# write a python program to check weather a given string is a palindrome\n",
    "\n",
    "# palindrome ->  eg. 'madam', 'Nayan', 'naman','radar'\n",
    "\n",
    "\n",
    "\n",
    "\n",
    "a = 'madam1'\n",
    "b = 'radar'\n",
    "\n",
    "\n",
    "if a == a[::-1]:\n",
    "    print('the input is palindrome')\n",
    "    \n",
    "else:\n",
    "    print('The input is not palindrome')\n"
   ]
  },
  {
   "cell_type": "code",
   "execution_count": 51,
   "metadata": {},
   "outputs": [
    {
     "data": {
      "text/plain": [
       "'1madam'"
      ]
     },
     "execution_count": 51,
     "metadata": {},
     "output_type": "execute_result"
    }
   ],
   "source": [
    "a[::-1]"
   ]
  },
  {
   "cell_type": "code",
   "execution_count": 27,
   "metadata": {},
   "outputs": [
    {
     "name": "stdout",
     "output_type": "stream",
     "text": [
      "python program to sort the words of a string in alphabatical order\n",
      "['python', 'program', 'to', 'sort', 'the', 'words', 'of', 'a', 'string', 'in', 'alphabatical', 'order']\n",
      "['a', 'alphabatical', 'in', 'of', 'order', 'program', 'python', 'sort', 'string', 'the', 'to', 'words']\n"
     ]
    }
   ],
   "source": [
    "# Assignment\n",
    "# Python Program to sort the words of a string in Alphabatical Order\n",
    "# Python Program to sort the alphabets of a string in Alphabatical Order\n",
    "\n",
    "#  str = \"Python Program to sort the words of a string in Alphabatical Order\"\n",
    "\n",
    "\n",
    "s = \"Python Program to sort the words of a string in Alphabatical Order\"\n",
    "\n",
    "s = s.lower()\n",
    "print(s)\n",
    "\n",
    "lst = s.split()\n",
    "\n",
    "print(lst)\n",
    "\n",
    "lst.sort()\n",
    "\n",
    "print(lst)"
   ]
  },
  {
   "cell_type": "code",
   "execution_count": 65,
   "metadata": {},
   "outputs": [],
   "source": [
    "# Functions\n",
    "\n",
    "# 1) In-Built Funtcions\n",
    "# 2) User - Defined functions"
   ]
  },
  {
   "cell_type": "code",
   "execution_count": 66,
   "metadata": {},
   "outputs": [],
   "source": [
    "# user-defined fucntions\n",
    "\n",
    "# syntax\n",
    "\n",
    "# def function_name(parameter):\n",
    "#    '''DOC STRING'''\n",
    "#      Doc string\n",
    "    \n",
    "#      Statement(s) - loops,continue, return, operations, break\n",
    "        "
   ]
  },
  {
   "cell_type": "code",
   "execution_count": 75,
   "metadata": {},
   "outputs": [
    {
     "name": "stdout",
     "output_type": "stream",
     "text": [
      "Hello Amit\n",
      "Hello Nayan\n",
      "This function prints the given input\n"
     ]
    }
   ],
   "source": [
    "def print_name(name):\n",
    "    # This fucntion prints the given input   <--- comment\n",
    "    \n",
    "    '''This function prints the given input''' # <---document string\n",
    "    \n",
    "    print(\"Hello\" + \" \" + str(name))\n",
    "    \n",
    "    \n",
    "    \n",
    "name = 'Amit'  # defining parameter\n",
    "\n",
    "print_name(name)  # calling function\n",
    "print_name('Nayan') \n",
    "\n",
    "print(print_name.__doc__)"
   ]
  },
  {
   "cell_type": "code",
   "execution_count": 76,
   "metadata": {},
   "outputs": [
    {
     "name": "stdout",
     "output_type": "stream",
     "text": [
      "This function prints the given input\n"
     ]
    }
   ],
   "source": [
    "print(print_name.__doc__)"
   ]
  },
  {
   "cell_type": "code",
   "execution_count": 77,
   "metadata": {},
   "outputs": [
    {
     "name": "stdout",
     "output_type": "stream",
     "text": [
      "Amit\n"
     ]
    }
   ],
   "source": [
    "print(name)"
   ]
  },
  {
   "cell_type": "code",
   "execution_count": null,
   "metadata": {},
   "outputs": [],
   "source": [
    "# Return statement\n",
    "\n",
    "# Syntax: \n",
    "# return[expression]"
   ]
  },
  {
   "cell_type": "code",
   "execution_count": 80,
   "metadata": {},
   "outputs": [
    {
     "name": "stdout",
     "output_type": "stream",
     "text": [
      "10\n",
      "11\n"
     ]
    },
    {
     "ename": "NameError",
     "evalue": "name 'total' is not defined",
     "output_type": "error",
     "traceback": [
      "\u001b[1;31m---------------------------------------------------------------------------\u001b[0m",
      "\u001b[1;31mNameError\u001b[0m                                 Traceback (most recent call last)",
      "\u001b[1;32m<ipython-input-80-147c2f7e8ca0>\u001b[0m in \u001b[0;36m<module>\u001b[1;34m()\u001b[0m\n\u001b[0;32m     17\u001b[0m \u001b[0mprint\u001b[0m\u001b[1;33m(\u001b[0m\u001b[0mS\u001b[0m\u001b[1;33m)\u001b[0m\u001b[1;33m\u001b[0m\u001b[0m\n\u001b[0;32m     18\u001b[0m \u001b[1;33m\u001b[0m\u001b[0m\n\u001b[1;32m---> 19\u001b[1;33m \u001b[0mprint\u001b[0m\u001b[1;33m(\u001b[0m\u001b[0mtotal\u001b[0m\u001b[1;33m)\u001b[0m\u001b[1;33m\u001b[0m\u001b[0m\n\u001b[0m",
      "\u001b[1;31mNameError\u001b[0m: name 'total' is not defined"
     ]
    }
   ],
   "source": [
    "# example of return\n",
    "\n",
    "lst = [1,2,3,4]\n",
    "\n",
    "def get_sum(lst):\n",
    "    total = 0  # initialize\n",
    "    \n",
    "    for num in lst:\n",
    "        total = total + num\n",
    "    print(total)    \n",
    "    return total+1\n",
    "\n",
    "\n",
    "\n",
    "S = get_sum(lst)\n",
    "\n",
    "print(S)\n",
    "\n",
    "print(total)"
   ]
  },
  {
   "cell_type": "code",
   "execution_count": 76,
   "metadata": {},
   "outputs": [],
   "source": [
    "# order of execution of python statements\n",
    "\n",
    "# def function_name():  --------4\n",
    "    # function body   --------5\n",
    "    # function body   --------6\n",
    "    \n",
    "# statement1      --------- 1\n",
    "\n",
    "# statement2      ----------2\n",
    "\n",
    "# function_name() ----------3\n",
    "\n",
    "# statement3      ----------7\n",
    "\n",
    "# statement4      ----------8\n",
    "    "
   ]
  },
  {
   "cell_type": "code",
   "execution_count": 60,
   "metadata": {},
   "outputs": [
    {
     "name": "stdout",
     "output_type": "stream",
     "text": [
      "THE HCF of 45 and 15 is:15\n"
     ]
    }
   ],
   "source": [
    "# program for HCF of two numbers\n",
    "\n",
    "num1 = 45\n",
    "num2 = 15\n",
    "\n",
    "def computeHCF(a,b):\n",
    "    '''This function givers HCF of two numbers'''\n",
    "    \n",
    "    smaller = a if b>a else b    # if esle statement in concise way\n",
    "    \n",
    "    for i in range(2,smaller+1):\n",
    "        if (a%i == 0) and (b%i == 0):\n",
    "            hcf = i\n",
    "    \n",
    "    return hcf\n",
    "    \n",
    "\n",
    "print(\"THE HCF of {} and {} is:{}\".format(num1, num2, computeHCF(num1, num2)))"
   ]
  },
  {
   "cell_type": "markdown",
   "metadata": {},
   "source": [
    "#### types of function arguments:\n",
    "\n",
    "1) Default Arg\n",
    "\n",
    "2) keyword Arg\n",
    "\n",
    "3) Arbitrary Arg\n"
   ]
  },
  {
   "cell_type": "code",
   "execution_count": 1,
   "metadata": {},
   "outputs": [
    {
     "name": "stdout",
     "output_type": "stream",
     "text": [
      "120\n"
     ]
    }
   ],
   "source": [
    "# Recursive functions:\n",
    "\n",
    "\n",
    "# when a fucntion is called within its defination\n",
    "\n",
    "# Write a python program to print factorial of a given number\n",
    "\n",
    "\n",
    "def factorial(n):\n",
    "    m = n\n",
    "    for i in range(1,n):\n",
    "        m = m*i\n",
    "        \n",
    "    return m\n",
    "\n",
    "fact = factorial(5)\n",
    "print(fact)"
   ]
  },
  {
   "cell_type": "code",
   "execution_count": 4,
   "metadata": {},
   "outputs": [
    {
     "name": "stdout",
     "output_type": "stream",
     "text": [
      "720\n"
     ]
    }
   ],
   "source": [
    "# Write a python program to print factorial of a given number using recursive method\n",
    "\n",
    "def rec_fact(n):\n",
    "    \n",
    "    return 1 if n==1 else (n*rec_fact(n-1))\n",
    "        \n",
    " ###     5*4*3*2*1    \n",
    "rfact = rec_fact(6)\n",
    "\n",
    "print(rfact)"
   ]
  },
  {
   "cell_type": "code",
   "execution_count": 34,
   "metadata": {},
   "outputs": [
    {
     "name": "stdout",
     "output_type": "stream",
     "text": [
      "[]\n",
      "[0]\n",
      "[0, 1, 1]\n",
      "[0, 1, 1, 2]\n",
      "[0, 1, 1, 2, 3]\n",
      "[0, 1, 1, 2, 3]\n",
      "[0, 1, 1, 2, 3, 5]\n",
      "[0, 1, 1, 2, 3, 5]\n",
      "[0, 1, 1, 2, 3, 5]\n",
      "[0, 1, 1, 2, 3, 5, 8]\n"
     ]
    }
   ],
   "source": [
    "# Python program to display the fibonacci sequence upto nth term using recursive function\n",
    "\n",
    "# Normal function method\n",
    "def fib(n):\n",
    "    \n",
    "    series = []\n",
    "    x, y = 0, 1\n",
    "    while x < n:\n",
    "        series.append(x)\n",
    "        x, y = y, x + y\n",
    "    return series\n",
    "\n",
    "\n",
    "for i in range(10):\n",
    "    print(fib(i))\n",
    "\n",
    "print(ans)"
   ]
  },
  {
   "cell_type": "code",
   "execution_count": 37,
   "metadata": {},
   "outputs": [
    {
     "name": "stdout",
     "output_type": "stream",
     "text": [
      "0\n",
      "1\n",
      "1\n",
      "2\n",
      "3\n",
      "5\n",
      "8\n",
      "13\n",
      "21\n",
      "34\n"
     ]
    }
   ],
   "source": [
    "#recursive method\n",
    "\n",
    "def fibonacci(num):\n",
    "    \n",
    "    return num  if num <=1 else fibonacci(num-1)+ fibonacci(num-2)\n",
    "\n",
    "###   fibonacci(9)                                     +                fibonacci(8)\n",
    "###   fibonacci(8)+ fibonacci(7)                             fibonacci(7)+ fibonacci(6)\n",
    "\n",
    "num = 10\n",
    "\n",
    "for i in range(num):\n",
    "    print(fibonacci(i))"
   ]
  },
  {
   "cell_type": "code",
   "execution_count": null,
   "metadata": {},
   "outputs": [],
   "source": [
    "# lamba functions- read by own"
   ]
  }
 ],
 "metadata": {
  "kernelspec": {
   "display_name": "Python 3 (ipykernel)",
   "language": "python",
   "name": "python3"
  },
  "language_info": {
   "codemirror_mode": {
    "name": "ipython",
    "version": 3
   },
   "file_extension": ".py",
   "mimetype": "text/x-python",
   "name": "python",
   "nbconvert_exporter": "python",
   "pygments_lexer": "ipython3",
   "version": "3.11.5"
  }
 },
 "nbformat": 4,
 "nbformat_minor": 4
}
